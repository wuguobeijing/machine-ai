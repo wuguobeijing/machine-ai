{
 "cells": [
  {
   "cell_type": "markdown",
   "metadata": {
    "collapsed": true,
    "pycharm": {
     "name": "#%% md\n"
    }
   },
   "source": [
    "# 数据扩增\n",
    "在赛题中我们需要对的图像进行字符识别，因此需要我们完成的数据的读取操作，同时也需要完成数据扩增（Data Augmentation）操作。"
   ]
  },
  {
   "cell_type": "markdown",
   "source": [
    "在深度学习中数据扩增方法非常重要\n",
    "数据扩增可以增加训练集的样本，同时也可以有效缓解模型过拟合的情况，也可以给模型带来的更强的泛化能力。\n"
   ],
   "metadata": {
    "collapsed": false
   }
  },
  {
   "cell_type": "markdown",
   "source": [
    "从颜色空间、尺度空间到样本空间，同时根据不同任务数据扩增都有相应的区别。\n",
    "对于图像分类，数据扩增一般不会改变标签；对于物体检测，数据扩增会改变物体坐标位置；对于图像分割，数据扩增会改变像素标签。"
   ],
   "metadata": {
    "collapsed": false
   }
  },
  {
   "cell_type": "markdown",
   "source": [
    "## 常见的数据扩增方法\n",
    "在常见的数据扩增方法中，一般会从图像颜色、尺寸、形态、空间和像素等角度进行变换。当然不同的数据扩增方法可以自由进行组合，得到更加丰富的数据扩增方法。\n",
    "\n",
    "以torchvision为例，常见的数据扩增方法包括：\n",
    "\n",
    "transforms.CenterCrop 对图片中心进行裁剪\n",
    "transforms.ColorJitter 对图像颜色的对比度、饱和度和零度进行变换\n",
    "transforms.FiveCrop 对图像四个角和中心进行裁剪得到五分图像\n",
    "transforms.Grayscale 对图像进行灰度变换\n",
    "transforms.Pad 使用固定值进行像素填充\n",
    "transforms.RandomAffine 随机仿射变换\n",
    "transforms.RandomCrop 随机区域裁剪\n",
    "transforms.RandomHorizontalFlip 随机水平翻转\n",
    "transforms.RandomRotation 随机旋转\n",
    "transforms.RandomVerticalFlip 随机垂直翻转\n",
    "赛题任务是需要对图像中的字符进行识别，因此对于字符图片并不能进行翻转操作。"
   ],
   "metadata": {
    "collapsed": false
   }
  },
  {
   "cell_type": "markdown",
   "source": [
    "## 常用的数据扩增库\n",
    "torchvision\n",
    "https://github.com/pytorch/vision\n",
    "pytorch官方提供的数据扩增库，提供了基本的数据数据扩增方法，可以无缝与torch进行集成；但数据扩增方法种类较少，且速度中等；\n",
    "\n",
    "imgaug\n",
    "https://github.com/aleju/imgaug\n",
    "imgaug是常用的第三方数据扩增库，提供了多样的数据扩增方法，且组合起来非常方便，速度较快；\n",
    "\n",
    "albumentations\n",
    "https://albumentations.readthedocs.io\n",
    "是常用的第三方数据扩增库，提供了多样的数据扩增方法，对图像分类、语义分割、物体检测和关键点检测都支持，速度较快"
   ],
   "metadata": {
    "collapsed": false
   }
  },
  {
   "cell_type": "markdown",
   "source": [
    "# 用Pytorch读取赛题数据\n",
    "在Pytorch中数据是通过Dataset进行封装，并通过DataLoder进行并行读取。所以我们只需要重载一下数据读取的逻辑就可以完成数据的读取。"
   ],
   "metadata": {
    "collapsed": false
   }
  },
  {
   "cell_type": "code",
   "execution_count": 8,
   "outputs": [],
   "source": [
    "import os, sys, glob, shutil, json\n",
    "import cv2\n",
    "\n",
    "from PIL import Image\n",
    "import numpy as np\n",
    "\n",
    "import torch\n",
    "from torch.utils.data.dataset import Dataset\n",
    "import torchvision.transforms as transforms\n",
    "\n",
    "class SVHNDataset(Dataset):\n",
    "    def __init__(self, img_path, img_label, transform=None):\n",
    "        self.img_path = img_path\n",
    "        self.img_label = img_label\n",
    "        if transform is not None:\n",
    "            self.transform = transform\n",
    "        else:\n",
    "            self.transform = None\n",
    "\n",
    "    def __getitem__(self, index):\n",
    "        img = Image.open(self.img_path[index]).convert('RGB')\n",
    "\n",
    "        if self.transform is not None:\n",
    "            img = self.transform(img)\n",
    "\n",
    "        # 原始SVHN中类别10为数字0\n",
    "        lbl = np.array(self.img_label[index], dtype=np.int)\n",
    "        lbl = list(lbl)  + (5 - len(lbl)) * [10]\n",
    "        return img, torch.from_numpy(np.array(lbl[:5]))\n",
    "\n",
    "    def __len__(self):\n",
    "        return len(self.img_path)\n",
    "\n",
    "train_path = glob.glob('./input/train/*.png')\n",
    "train_path.sort()\n",
    "# print(train_path)\n",
    "train_json = json.load(open('./input/train.json'))\n",
    "train_label = [train_json[x]['label'] for x in train_json]"
   ],
   "metadata": {
    "collapsed": false,
    "pycharm": {
     "name": "#%%\n"
    }
   }
  },
  {
   "cell_type": "markdown",
   "source": [
    "如果图中数字为1，9的话，通过以上方法在遍历图片时可以得到[1,9,10,10,10]"
   ],
   "metadata": {
    "collapsed": false,
    "pycharm": {
     "name": "#%% md\n"
    }
   }
  },
  {
   "cell_type": "code",
   "execution_count": 9,
   "outputs": [],
   "source": [
    "data = SVHNDataset(train_path, train_label,\n",
    "          transforms.Compose([\n",
    "              # 缩放到固定尺寸\n",
    "              transforms.Resize((64, 128)),\n",
    "\n",
    "              # 随机颜色变换\n",
    "              transforms.ColorJitter(0.2, 0.2, 0.2),\n",
    "\n",
    "              # 加入随机旋转\n",
    "              transforms.RandomRotation(5),\n",
    "\n",
    "              # 将图片转换为pytorch 的tesntor\n",
    "              transforms.ToTensor(),\n",
    "\n",
    "              # 对图像像素进行归一化\n",
    "              transforms.Normalize([0.485,0.456,0.406],[0.229,0.224,0.225])\n",
    "            ]))\n",
    "#使用DataLoader封装数据\n",
    "train_loader = torch.utils.data.DataLoader(\n",
    "       data,\n",
    "    batch_size=10, # 每批样本个数\n",
    "    shuffle=False, # 是否打乱顺序\n",
    "    num_workers=10, # 读取的线程个数\n",
    ")\n"
   ],
   "metadata": {
    "collapsed": false,
    "pycharm": {
     "name": "#%%\n"
    }
   }
  },
  {
   "cell_type": "code",
   "execution_count": 10,
   "outputs": [
    {
     "name": "stdout",
     "output_type": "stream",
     "text": [
      "tensor([[[-0.6281, -0.5767, -0.6794,  ...,  1.3755,  1.3755,  1.3755],\n",
      "         [-0.5596, -0.5424, -0.5938,  ...,  1.3755,  1.3755,  1.3755],\n",
      "         [-0.4397, -0.4397, -0.5424,  ...,  1.3755,  1.3755,  1.3755],\n",
      "         ...,\n",
      "         [-2.0323, -2.0494, -2.0323,  ...,  1.3755,  1.3755,  1.3755],\n",
      "         [-2.0152, -1.9809, -1.9467,  ...,  1.3755,  1.3755,  1.3755],\n",
      "         [-1.9980, -1.9467, -1.8782,  ...,  1.3755,  1.3755,  1.3755]],\n",
      "\n",
      "        [[-0.4076, -0.4951, -0.4251,  ...,  1.5357,  1.5357,  1.5357],\n",
      "         [-0.3550, -0.4251, -0.3901,  ...,  1.5357,  1.5357,  1.5357],\n",
      "         [-0.2675, -0.2850, -0.2850,  ...,  1.5357,  1.5357,  1.5357],\n",
      "         ...,\n",
      "         [-1.9132, -1.9307, -1.9132,  ...,  1.5357,  1.5357,  1.5357],\n",
      "         [-1.8957, -1.9132, -1.9832,  ...,  1.5357,  1.5357,  1.5357],\n",
      "         [-1.8606, -1.9307, -1.9657,  ...,  1.5357,  1.5357,  1.5357]],\n",
      "\n",
      "        [[-0.3404, -0.2184, -0.3055,  ...,  1.7511,  1.7511,  1.7511],\n",
      "         [-0.0615, -0.0790, -0.1138,  ...,  1.7511,  1.7511,  1.7511],\n",
      "         [-0.0441, -0.0267,  0.0082,  ...,  1.7511,  1.7511,  1.7511],\n",
      "         ...,\n",
      "         [-1.6824, -1.6650, -1.6650,  ...,  1.7511,  1.7511,  1.7511],\n",
      "         [-1.6650, -1.6650, -1.6127,  ...,  1.7511,  1.7511,  1.7511],\n",
      "         [-1.6302, -1.6650, -1.5604,  ...,  1.7511,  1.7511,  1.7511]]]) torch.Size([3, 64, 128])\n",
      "torch.Size([5])\n"
     ]
    }
   ],
   "source": [
    "for x,y in data:\n",
    "    print(x,x.shape)\n",
    "    print(y.shape)\n",
    "    break\n"
   ],
   "metadata": {
    "collapsed": false,
    "pycharm": {
     "name": "#%%\n"
    }
   }
  }
 ],
 "metadata": {
  "kernelspec": {
   "display_name": "Python 3",
   "language": "python",
   "name": "python3"
  },
  "language_info": {
   "codemirror_mode": {
    "name": "ipython",
    "version": 2
   },
   "file_extension": ".py",
   "mimetype": "text/x-python",
   "name": "python",
   "nbconvert_exporter": "python",
   "pygments_lexer": "ipython2",
   "version": "2.7.6"
  }
 },
 "nbformat": 4,
 "nbformat_minor": 0
}