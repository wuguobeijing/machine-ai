{
 "cells": [
  {
   "cell_type": "code",
   "execution_count": 1,
   "metadata": {
    "collapsed": true
   },
   "outputs": [],
   "source": [
    "import pandas as pd\n",
    "import numpy as np\n",
    "from sklearn.ensemble import RandomForestClassifier\n",
    "from sklearn.model_selection import GridSearchCV\n",
    "from sklearn import metrics\n",
    "\n",
    "import matplotlib.pylab as plt\n",
    "%matplotlib inline"
   ]
  },
  {
   "cell_type": "code",
   "execution_count": 2,
   "outputs": [
    {
     "data": {
      "text/plain": "0    19680\n1      320\nName: Disbursed, dtype: int64"
     },
     "execution_count": 2,
     "metadata": {},
     "output_type": "execute_result"
    }
   ],
   "source": [
    "train = pd.read_csv('../ensemble-learning/train_modified.zip_files/train_modified.csv')\n",
    "target='Disbursed' # Disbursed的值就是二元分类的输出\n",
    "IDcol = 'ID'\n",
    "train['%s' % target].value_counts()"
   ],
   "metadata": {
    "collapsed": false,
    "pycharm": {
     "name": "#%%\n"
    }
   }
  },
  {
   "cell_type": "code",
   "execution_count": 3,
   "outputs": [],
   "source": [
    "x_columns = [x for x in train.columns if x not in [target, IDcol]]\n",
    "X = train[x_columns]\n",
    "y = train['Disbursed']"
   ],
   "metadata": {
    "collapsed": false,
    "pycharm": {
     "name": "#%%\n"
    }
   }
  },
  {
   "cell_type": "code",
   "execution_count": 4,
   "outputs": [
    {
     "name": "stderr",
     "output_type": "stream",
     "text": [
      "C:\\Python39\\lib\\site-packages\\sklearn\\base.py:445: UserWarning: X does not have valid feature names, but RandomForestClassifier was fitted with feature names\n",
      "  warnings.warn(\n"
     ]
    },
    {
     "name": "stdout",
     "output_type": "stream",
     "text": [
      "0.98315\n",
      "AUC Score (Train): 0.999994\n"
     ]
    }
   ],
   "source": [
    "rf0 = RandomForestClassifier(oob_score=True, random_state=10)\n",
    "rf0.fit(X,y)\n",
    "print(rf0.oob_score_)\n",
    "y_predprob = rf0.predict_proba(X)[:,1]\n",
    "print(\"AUC Score (Train): %f\" % metrics.roc_auc_score(y, y_predprob))"
   ],
   "metadata": {
    "collapsed": false,
    "pycharm": {
     "name": "#%%\n"
    }
   }
  },
  {
   "cell_type": "code",
   "execution_count": 10,
   "outputs": [
    {
     "data": {
      "text/plain": "({'mean_fit_time': array([0.05345702, 0.11788507, 0.14900713, 0.18809733, 0.23057714,\n         0.28642883, 0.33391018]),\n  'std_fit_time': array([0.00257584, 0.01202385, 0.00709591, 0.00406839, 0.00159624,\n         0.00715641, 0.00688195]),\n  'mean_score_time': array([0.00578532, 0.00917583, 0.01256642, 0.01496034, 0.01775932,\n         0.02194691, 0.02373085]),\n  'std_score_time': array([3.98803110e-04, 3.98731260e-04, 7.98153968e-04, 7.29420592e-07,\n         4.03100913e-04, 1.09341747e-03, 4.10485804e-04]),\n  'param_n_estimators': masked_array(data=[10, 20, 30, 40, 50, 60, 70],\n               mask=[False, False, False, False, False, False, False],\n         fill_value='?',\n              dtype=object),\n  'params': [{'n_estimators': 10},\n   {'n_estimators': 20},\n   {'n_estimators': 30},\n   {'n_estimators': 40},\n   {'n_estimators': 50},\n   {'n_estimators': 60},\n   {'n_estimators': 70}],\n  'split0_test_score': array([0.81797431, 0.82673558, 0.8370927 , 0.83676321, 0.8351753 ,\n         0.83643769, 0.83286093]),\n  'split1_test_score': array([0.78064461, 0.78217893, 0.79100967, 0.79112479, 0.7911367 ,\n         0.7932903 , 0.79317319]),\n  'split2_test_score': array([0.77967996, 0.77394166, 0.7725582 , 0.77300678, 0.77952514,\n         0.77912022, 0.7801603 ]),\n  'split3_test_score': array([0.82203538, 0.83827172, 0.83311103, 0.83438929, 0.83691605,\n         0.84013156, 0.83880566]),\n  'split4_test_score': array([0.83371245, 0.85888473, 0.85714201, 0.85663785, 0.85895024,\n         0.85668747, 0.8545954 ]),\n  'mean_test_score': array([0.80680934, 0.81600252, 0.81818272, 0.81838438, 0.82034069,\n         0.82113345, 0.8199191 ]),\n  'std_test_score': array([0.02236454, 0.03275104, 0.03136316, 0.03117524, 0.03001429,\n         0.02966341, 0.02836457]),\n  'rank_test_score': array([7, 6, 5, 4, 2, 1, 3])},\n {'n_estimators': 60},\n 0.8211334476626015)"
     },
     "execution_count": 10,
     "metadata": {},
     "output_type": "execute_result"
    }
   ],
   "source": [
    "param_test1 = {'n_estimators':range(10,71,10)}\n",
    "gsearch1 = GridSearchCV(estimator = RandomForestClassifier(min_samples_split=100,\n",
    "                        min_samples_leaf=20,max_depth=8,max_features='sqrt' ,random_state=10),\n",
    "                       param_grid = param_test1, scoring='roc_auc',cv=5)\n",
    "gsearch1.fit(X,y)\n",
    "gsearch1.cv_results_, gsearch1.best_params_, gsearch1.best_score_"
   ],
   "metadata": {
    "collapsed": false,
    "pycharm": {
     "name": "#%%\n"
    }
   }
  },
  {
   "cell_type": "code",
   "execution_count": 11,
   "outputs": [
    {
     "data": {
      "text/plain": "({'max_depth': 13, 'min_samples_split': 110}, 0.8242016800050813)"
     },
     "execution_count": 11,
     "metadata": {},
     "output_type": "execute_result"
    }
   ],
   "source": [
    "param_test2 = {'max_depth':range(3,14,2), 'min_samples_split':range(50,201,20)}\n",
    "gsearch2 = GridSearchCV(estimator = RandomForestClassifier(n_estimators= 60,\n",
    "                                  min_samples_leaf=20,max_features='sqrt' ,random_state=10),\n",
    "   param_grid = param_test2, scoring='roc_auc', cv=5)\n",
    "gsearch2.fit(X,y)\n",
    "gsearch2.best_params_, gsearch2.best_score_"
   ],
   "metadata": {
    "collapsed": false,
    "pycharm": {
     "name": "#%%\n"
    }
   }
  },
  {
   "cell_type": "code",
   "execution_count": 12,
   "outputs": [
    {
     "data": {
      "text/plain": "({'mean_fit_time': array([0.34149332, 0.35345788, 0.33131981, 0.32014346, 0.32912068,\n         0.34429593, 0.33032775, 0.30778255, 0.30518985, 0.30079651,\n         0.30079603, 0.29840894, 0.29920058, 0.29760475, 0.29561567,\n         0.29501133, 0.29122748, 0.29241714, 0.29102139, 0.28862915]),\n  'std_fit_time': array([0.02187503, 0.01947904, 0.00920713, 0.00676692, 0.00954506,\n         0.03059857, 0.00719183, 0.00561985, 0.0018932 , 0.00286166,\n         0.00287599, 0.00364305, 0.00315452, 0.00195397, 0.00162251,\n         0.0009771 , 0.00209204, 0.00232143, 0.00193389, 0.00185   ]),\n  'mean_score_time': array([0.02373147, 0.02393332, 0.02413964, 0.02273946, 0.02333751,\n         0.02412462, 0.02353168, 0.02293916, 0.02293291, 0.02234626,\n         0.02234602, 0.02234554, 0.02193556, 0.02194171, 0.02196107,\n         0.02214613, 0.02193608, 0.02194223, 0.02194777, 0.02174234]),\n  'std_score_time': array([3.95711641e-04, 1.08653289e-03, 3.96572969e-04, 7.46111086e-04,\n         4.88694899e-04, 4.03355676e-04, 7.81566591e-04, 1.78157236e-05,\n         6.20766011e-04, 4.84328856e-04, 4.84824987e-04, 4.84825643e-04,\n         1.42442681e-05, 6.46813391e-07, 6.51901335e-04, 3.96556932e-04,\n         1.09345698e-03, 6.22121906e-04, 1.28247036e-05, 3.98995953e-04]),\n  'param_min_samples_leaf': masked_array(data=[10, 10, 10, 10, 20, 20, 20, 20, 30, 30, 30, 30, 40, 40,\n                     40, 40, 50, 50, 50, 50],\n               mask=[False, False, False, False, False, False, False, False,\n                     False, False, False, False, False, False, False, False,\n                     False, False, False, False],\n         fill_value='?',\n              dtype=object),\n  'param_min_samples_split': masked_array(data=[80, 100, 120, 140, 80, 100, 120, 140, 80, 100, 120,\n                     140, 80, 100, 120, 140, 80, 100, 120, 140],\n               mask=[False, False, False, False, False, False, False, False,\n                     False, False, False, False, False, False, False, False,\n                     False, False, False, False],\n         fill_value='?',\n              dtype=object),\n  'params': [{'min_samples_leaf': 10, 'min_samples_split': 80},\n   {'min_samples_leaf': 10, 'min_samples_split': 100},\n   {'min_samples_leaf': 10, 'min_samples_split': 120},\n   {'min_samples_leaf': 10, 'min_samples_split': 140},\n   {'min_samples_leaf': 20, 'min_samples_split': 80},\n   {'min_samples_leaf': 20, 'min_samples_split': 100},\n   {'min_samples_leaf': 20, 'min_samples_split': 120},\n   {'min_samples_leaf': 20, 'min_samples_split': 140},\n   {'min_samples_leaf': 30, 'min_samples_split': 80},\n   {'min_samples_leaf': 30, 'min_samples_split': 100},\n   {'min_samples_leaf': 30, 'min_samples_split': 120},\n   {'min_samples_leaf': 30, 'min_samples_split': 140},\n   {'min_samples_leaf': 40, 'min_samples_split': 80},\n   {'min_samples_leaf': 40, 'min_samples_split': 100},\n   {'min_samples_leaf': 40, 'min_samples_split': 120},\n   {'min_samples_leaf': 40, 'min_samples_split': 140},\n   {'min_samples_leaf': 50, 'min_samples_split': 80},\n   {'min_samples_leaf': 50, 'min_samples_split': 100},\n   {'min_samples_leaf': 50, 'min_samples_split': 120},\n   {'min_samples_leaf': 50, 'min_samples_split': 140}],\n  'split0_test_score': array([0.82845449, 0.82321638, 0.83177123, 0.82597934, 0.81923669,\n         0.82899438, 0.83293834, 0.83292842, 0.83152709, 0.82994712,\n         0.82897453, 0.82060626, 0.82249389, 0.8246058 , 0.82937151,\n         0.82820241, 0.83519118, 0.83519118, 0.83139013, 0.82688842]),\n  'split1_test_score': array([0.7987527 , 0.79892737, 0.80212899, 0.80147794, 0.8070376 ,\n         0.80161292, 0.79838748, 0.80480858, 0.80123579, 0.80077331,\n         0.80549932, 0.8038082 , 0.81101134, 0.80173598, 0.80329213,\n         0.80533259, 0.80047756, 0.80047756, 0.79987813, 0.79849466]),\n  'split2_test_score': array([0.79033878, 0.79120419, 0.78602563, 0.78658735, 0.7861348 ,\n         0.7875004 , 0.80341916, 0.78557109, 0.79268491, 0.78703593,\n         0.7803707 , 0.78780607, 0.78845314, 0.78461041, 0.7780722 ,\n         0.78574179, 0.78640871, 0.78640871, 0.78120038, 0.78213327]),\n  'split3_test_score': array([0.83617966, 0.83349609, 0.83135837, 0.83130875, 0.82981811,\n         0.83488551, 0.8346374 , 0.83021905, 0.84109621, 0.84205491,\n         0.83554449, 0.83417095, 0.83508003, 0.84203705, 0.83420668,\n         0.83663022, 0.84062381, 0.84062381, 0.8338236 , 0.83752938]),\n  'split4_test_score': array([0.85092138, 0.84882336, 0.85113575, 0.84452212, 0.8624873 ,\n         0.8518781 , 0.85494276, 0.85493482, 0.85106032, 0.84841249,\n         0.85310475, 0.8606751 , 0.85687405, 0.85408132, 0.85720155,\n         0.85219766, 0.84854746, 0.84854746, 0.8482279 , 0.85078641]),\n  'mean_test_score': array([0.8209294 , 0.81913348, 0.82048399, 0.8179751 , 0.8209429 ,\n         0.82097426, 0.82486503, 0.82169239, 0.82352087, 0.82164475,\n         0.82069876, 0.82141332, 0.82278249, 0.82141411, 0.82042881,\n         0.82162093, 0.82224975, 0.82224975, 0.81890403, 0.81916643]),\n  'std_test_score': array([0.02287491, 0.0214139 , 0.02327861, 0.02099498, 0.02534789,\n         0.02327339, 0.02110134, 0.02405753, 0.02271077, 0.02381345,\n         0.02528402, 0.02507702, 0.02293736, 0.02547305, 0.02723889,\n         0.02347831, 0.02431158, 0.02431158, 0.02458429, 0.02528014]),\n  'rank_test_score': array([13, 18, 15, 20, 12, 11,  1,  6,  2,  7, 14, 10,  3,  9, 16,  8,  4,\n          4, 19, 17])},\n {'min_samples_leaf': 20, 'min_samples_split': 120},\n 0.8248650279471545)"
     },
     "execution_count": 12,
     "metadata": {},
     "output_type": "execute_result"
    }
   ],
   "source": [
    "param_test3 = {'min_samples_split':range(80,150,20), 'min_samples_leaf':range(10,60,10)}\n",
    "gsearch3 = GridSearchCV(estimator = RandomForestClassifier(n_estimators= 60, max_depth=13,\n",
    "                        max_features='sqrt' ,random_state=10),\n",
    "                        param_grid = param_test3, scoring='roc_auc', cv=5)\n",
    "gsearch3.fit(X,y)\n",
    "gsearch3.cv_results_, gsearch3.best_params_, gsearch3.best_score_"
   ],
   "metadata": {
    "collapsed": false,
    "pycharm": {
     "name": "#%%\n"
    }
   }
  },
  {
   "cell_type": "code",
   "execution_count": 13,
   "outputs": [
    {
     "name": "stdout",
     "output_type": "stream",
     "text": [
      "0.984\n"
     ]
    },
    {
     "name": "stderr",
     "output_type": "stream",
     "text": [
      "C:\\Python39\\lib\\site-packages\\sklearn\\base.py:445: UserWarning: X does not have valid feature names, but RandomForestClassifier was fitted with feature names\n",
      "  warnings.warn(\n"
     ]
    }
   ],
   "source": [
    "rf2 = RandomForestClassifier(n_estimators= 60, max_depth=13, min_samples_split=120,\n",
    "                                  min_samples_leaf=20,max_features=7 ,oob_score=True, random_state=10)\n",
    "rf2.fit(X,y)\n",
    "print(rf2.oob_score_)\n"
   ],
   "metadata": {
    "collapsed": false,
    "pycharm": {
     "name": "#%%\n"
    }
   }
  }
 ],
 "metadata": {
  "kernelspec": {
   "display_name": "Python 3",
   "language": "python",
   "name": "python3"
  },
  "language_info": {
   "codemirror_mode": {
    "name": "ipython",
    "version": 2
   },
   "file_extension": ".py",
   "mimetype": "text/x-python",
   "name": "python",
   "nbconvert_exporter": "python",
   "pygments_lexer": "ipython2",
   "version": "2.7.6"
  }
 },
 "nbformat": 4,
 "nbformat_minor": 0
}