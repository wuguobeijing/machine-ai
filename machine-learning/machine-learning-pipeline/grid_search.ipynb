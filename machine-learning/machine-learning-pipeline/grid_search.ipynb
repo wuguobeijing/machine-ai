{
 "cells": [
  {
   "cell_type": "markdown",
   "source": [
    "Grid Search with Cross Validation"
   ],
   "metadata": {
    "collapsed": false
   }
  },
  {
   "cell_type": "code",
   "execution_count": 1,
   "metadata": {
    "collapsed": true
   },
   "outputs": [
    {
     "name": "stdout",
     "output_type": "stream",
     "text": [
      "Size of training set:84 size of validation set:28 size of testing set:38\n",
      "Best score on validation set:0.96\n",
      "Best parameters:{'gamma': 0.001, 'C': 10}\n",
      "Best score on test set:0.92\n"
     ]
    }
   ],
   "source": [
    "from sklearn.datasets import load_iris\n",
    "from sklearn.svm import SVC\n",
    "from sklearn.model_selection import train_test_split\n",
    "from sklearn import datasets\n",
    "iris = datasets.load_iris()\n",
    "X_trainval,X_test,y_trainval,y_test = train_test_split(iris.data,iris.target,random_state=0)\n",
    "X_train,X_val,y_train,y_val = train_test_split(X_trainval,y_trainval,random_state=1)\n",
    "print(\"Size of training set:{} size of validation set:{} size of testing set:{}\".format(X_train.shape[0],X_val.shape[0],X_test.shape[0]))\n",
    "\n",
    "best_score = 0.0\n",
    "for gamma in [0.001,0.01,0.1,1,10,100]:\n",
    "    for C in [0.001,0.01,0.1,1,10,100]:\n",
    "        svm = SVC(gamma=gamma,C=C)\n",
    "        svm.fit(X_train,y_train)\n",
    "        score = svm.score(X_val,y_val)\n",
    "        if score > best_score:\n",
    "            best_score = score\n",
    "            best_parameters = {'gamma':gamma,'C':C}\n",
    "svm = SVC(**best_parameters) #使用最佳参数，构建新的模型\n",
    "svm.fit(X_trainval,y_trainval) #使用训练集和验证集进行训练，more data always results in good performance.\n",
    "test_score = svm.score(X_test,y_test) # evaluation模型评估\n",
    "print(\"Best score on validation set:{:.2f}\".format(best_score))\n",
    "print(\"Best parameters:{}\".format(best_parameters))\n",
    "print(\"Best score on test set:{:.2f}\".format(test_score))"
   ]
  },
  {
   "cell_type": "code",
   "execution_count": 2,
   "outputs": [
    {
     "name": "stdout",
     "output_type": "stream",
     "text": [
      "Best score on validation set:0.97\n",
      "Best parameters:{'gamma': 0.1, 'C': 10}\n",
      "Score on testing set:0.97\n"
     ]
    }
   ],
   "source": [
    "from sklearn.model_selection import cross_val_score\n",
    "\n",
    "best_score = 0.0\n",
    "for gamma in [0.001,0.01,0.1,1,10,100]:\n",
    "    for C in [0.001,0.01,0.1,1,10,100]:\n",
    "        svm = SVC(gamma=gamma,C=C)\n",
    "        scores = cross_val_score(svm,X_trainval,y_trainval,cv=5) #5折交叉验证\n",
    "        score = scores.mean() #取平均数\n",
    "        if score > best_score:\n",
    "            best_score = score\n",
    "            best_parameters = {\"gamma\":gamma,\"C\":C}\n",
    "svm = SVC(**best_parameters)\n",
    "svm.fit(X_trainval,y_trainval)\n",
    "test_score = svm.score(X_test,y_test)\n",
    "print(\"Best score on validation set:{:.2f}\".format(best_score))\n",
    "print(\"Best parameters:{}\".format(best_parameters))\n",
    "print(\"Score on testing set:{:.2f}\".format(test_score))"
   ],
   "metadata": {
    "collapsed": false,
    "pycharm": {
     "name": "#%%\n"
    }
   }
  },
  {
   "cell_type": "markdown",
   "source": [
    "sklearn因此设计了一个这样的类GridSearchCV，这个类实现了fit，predict，score等方法，被当做了一个estimator，使用fit方法，该过程中：（1）搜索到最佳参数；（2）实例化了一个最佳参数的estimator；"
   ],
   "metadata": {
    "collapsed": false
   }
  },
  {
   "cell_type": "code",
   "execution_count": null,
   "outputs": [],
   "source": [
    "from sklearn.model_selection import GridSearchCV\n",
    "\n",
    "#把要调整的参数以及其候选值 列出来；\n",
    "param_grid = {\"gamma\":[0.001,0.01,0.1,1,10,100],\n",
    "             \"C\":[0.001,0.01,0.1,1,10,100]}\n",
    "print(\"Parameters:{}\".format(param_grid))\n",
    "\n",
    "grid_search = GridSearchCV(SVC(),param_grid,cv=5) #实例化一个GridSearchCV类\n",
    "X_train,X_test,y_train,y_test = train_test_split(iris.data,iris.target,random_state=10)\n",
    "grid_search.fit(X_train,y_train) #训练，找到最优的参数，同时使用最优的参数实例化一个新的SVC estimator。\n",
    "print(\"Test set score:{:.2f}\".format(grid_search.score(X_test,y_test)))\n",
    "print(\"Best parameters:{}\".format(grid_search.best_params_))\n",
    "print(\"Best score on train set:{:.2f}\".format(grid_search.best_score_))"
   ],
   "metadata": {
    "collapsed": false,
    "pycharm": {
     "name": "#%%\n"
    }
   }
  }
 ],
 "metadata": {
  "kernelspec": {
   "display_name": "Python 3",
   "language": "python",
   "name": "python3"
  },
  "language_info": {
   "codemirror_mode": {
    "name": "ipython",
    "version": 2
   },
   "file_extension": ".py",
   "mimetype": "text/x-python",
   "name": "python",
   "nbconvert_exporter": "python",
   "pygments_lexer": "ipython2",
   "version": "2.7.6"
  }
 },
 "nbformat": 4,
 "nbformat_minor": 0
}