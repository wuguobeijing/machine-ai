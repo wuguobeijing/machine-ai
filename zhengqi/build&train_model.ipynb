{
 "cells": [
  {
   "cell_type": "code",
   "execution_count": 26,
   "metadata": {
    "collapsed": true
   },
   "outputs": [],
   "source": [
    "from sklearn.linear_model import LinearRegression  #线性回归\n",
    "from sklearn.neighbors import KNeighborsRegressor  #K近邻回归\n",
    "from sklearn.tree import DecisionTreeRegressor     #决策树回归\n",
    "from sklearn.ensemble import RandomForestRegressor #随机森林回归\n",
    "from sklearn.svm import SVR  #支持向量回归\n",
    "import lightgbm as lgb #lightGbm模型\n",
    "import pandas as pd\n",
    "from sklearn.model_selection import train_test_split # 切分数据\n",
    "from sklearn.metrics import mean_squared_error #评价指标\n",
    "\n",
    "from sklearn.model_selection import learning_curve\n",
    "from sklearn.model_selection import ShuffleSplit"
   ]
  },
  {
   "cell_type": "code",
   "execution_count": 27,
   "outputs": [],
   "source": [
    "#采用 pca 保留16维特征的数据\n",
    "pca_train_data_file = \"./data/process_train.csv\"\n",
    "pca_test_data_file =  \"./data/process_test.csv\"\n",
    "\n",
    "train_data = pd.read_csv(pca_train_data_file, sep=',', encoding='utf-8')\n",
    "test_data = pd.read_csv(pca_test_data_file, sep=',', encoding='utf-8')\n",
    "new_train_pca_16 = train_data.fillna(0)\n",
    "train = new_train_pca_16[train_data.columns]\n",
    "target = new_train_pca_16['target']\n",
    "\n",
    "# 切分数据 训练数据80% 验证数据20%\n",
    "train_data,test_data,train_target,test_target=train_test_split(train,target,test_size=0.2,random_state=0)"
   ],
   "metadata": {
    "collapsed": false,
    "pycharm": {
     "name": "#%%\n"
    }
   }
  },
  {
   "cell_type": "code",
   "execution_count": 28,
   "outputs": [
    {
     "data": {
      "text/plain": "                  0            1             2             3             4  \\\ncount  2.886000e+03  2886.000000  2.886000e+03  2.886000e+03  2.886000e+03   \nmean   3.939253e-17     0.000000  1.969626e-17  4.924066e-18  6.893693e-17   \nstd    3.998976e-01     0.350024  2.938631e-01  2.728023e-01  2.077128e-01   \nmin   -1.071795e+00    -0.942948 -9.948316e-01 -7.103086e-01 -7.703987e-01   \n25%   -2.804085e-01    -0.261373 -2.090797e-01 -1.945196e-01 -1.315620e-01   \n50%   -1.417104e-02    -0.012772  2.112164e-02 -2.337399e-02 -5.122878e-03   \n75%    2.287306e-01     0.231772  2.069571e-01  1.657590e-01  1.281660e-01   \nmax    1.597730e+00     1.382802  1.010250e+00  1.448007e+00  1.034061e+00   \n\n                  5             6             7             8             9  \\\ncount  2.886000e+03  2.886000e+03  2.886000e+03  2.886000e+03  2.886000e+03   \nmean  -2.585135e-17  5.908879e-17 -6.278184e-17 -9.601929e-17  1.194086e-16   \nstd    1.951842e-01  1.877104e-01  1.607670e-01  1.512707e-01  1.443772e-01   \nmin   -5.340286e-01 -5.993764e-01 -5.870697e-01 -6.282749e-01 -4.902647e-01   \n25%   -1.264090e-01 -1.236356e-01 -1.016477e-01 -9.662436e-02 -9.296823e-02   \n50%   -1.355367e-02 -1.745890e-04 -4.656240e-03  2.575781e-03 -1.477202e-03   \n75%    9.993095e-02  1.272075e-01  9.657206e-02  1.002697e-01  9.059545e-02   \nmax    1.358962e+00  6.191595e-01  7.370164e-01  6.448517e-01  5.839584e-01   \n\n                 10            11            12            13            14  \\\ncount  2.886000e+03  2.886000e+03  2.886000e+03  2.886000e+03  2.886000e+03   \nmean  -7.016794e-17  1.120225e-16 -1.231017e-18 -3.939253e-17 -4.185456e-17   \nstd    1.368790e-01  1.286192e-01  1.193301e-01  1.149757e-01  1.133507e-01   \nmin   -6.340463e-01 -5.906469e-01 -4.175135e-01 -4.311070e-01 -4.169906e-01   \n25%   -8.202294e-02 -7.719893e-02 -7.134715e-02 -7.471739e-02 -7.700447e-02   \n50%    7.276437e-03 -5.697715e-03 -4.139221e-03  1.038501e-03 -1.790570e-03   \n75%    8.834017e-02  7.148620e-02  6.776741e-02  7.577765e-02  7.113513e-02   \nmax    6.405842e-01  6.779427e-01  5.157198e-01  4.978179e-01  4.674310e-01   \n\n                 15       target  \ncount  2.886000e+03  2886.000000  \nmean   8.924870e-17     0.127185  \nstd    1.019259e-01     0.983126  \nmin   -3.601460e-01    -3.044000  \n25%   -6.605244e-02    -0.347500  \n50%   -7.493705e-04     0.312500  \n75%    6.362831e-02     0.793750  \nmax    4.570133e-01     2.538000  ",
      "text/html": "<div>\n<style scoped>\n    .dataframe tbody tr th:only-of-type {\n        vertical-align: middle;\n    }\n\n    .dataframe tbody tr th {\n        vertical-align: top;\n    }\n\n    .dataframe thead th {\n        text-align: right;\n    }\n</style>\n<table border=\"1\" class=\"dataframe\">\n  <thead>\n    <tr style=\"text-align: right;\">\n      <th></th>\n      <th>0</th>\n      <th>1</th>\n      <th>2</th>\n      <th>3</th>\n      <th>4</th>\n      <th>5</th>\n      <th>6</th>\n      <th>7</th>\n      <th>8</th>\n      <th>9</th>\n      <th>10</th>\n      <th>11</th>\n      <th>12</th>\n      <th>13</th>\n      <th>14</th>\n      <th>15</th>\n      <th>target</th>\n    </tr>\n  </thead>\n  <tbody>\n    <tr>\n      <th>count</th>\n      <td>2.886000e+03</td>\n      <td>2886.000000</td>\n      <td>2.886000e+03</td>\n      <td>2.886000e+03</td>\n      <td>2.886000e+03</td>\n      <td>2.886000e+03</td>\n      <td>2.886000e+03</td>\n      <td>2.886000e+03</td>\n      <td>2.886000e+03</td>\n      <td>2.886000e+03</td>\n      <td>2.886000e+03</td>\n      <td>2.886000e+03</td>\n      <td>2.886000e+03</td>\n      <td>2.886000e+03</td>\n      <td>2.886000e+03</td>\n      <td>2.886000e+03</td>\n      <td>2886.000000</td>\n    </tr>\n    <tr>\n      <th>mean</th>\n      <td>3.939253e-17</td>\n      <td>0.000000</td>\n      <td>1.969626e-17</td>\n      <td>4.924066e-18</td>\n      <td>6.893693e-17</td>\n      <td>-2.585135e-17</td>\n      <td>5.908879e-17</td>\n      <td>-6.278184e-17</td>\n      <td>-9.601929e-17</td>\n      <td>1.194086e-16</td>\n      <td>-7.016794e-17</td>\n      <td>1.120225e-16</td>\n      <td>-1.231017e-18</td>\n      <td>-3.939253e-17</td>\n      <td>-4.185456e-17</td>\n      <td>8.924870e-17</td>\n      <td>0.127185</td>\n    </tr>\n    <tr>\n      <th>std</th>\n      <td>3.998976e-01</td>\n      <td>0.350024</td>\n      <td>2.938631e-01</td>\n      <td>2.728023e-01</td>\n      <td>2.077128e-01</td>\n      <td>1.951842e-01</td>\n      <td>1.877104e-01</td>\n      <td>1.607670e-01</td>\n      <td>1.512707e-01</td>\n      <td>1.443772e-01</td>\n      <td>1.368790e-01</td>\n      <td>1.286192e-01</td>\n      <td>1.193301e-01</td>\n      <td>1.149757e-01</td>\n      <td>1.133507e-01</td>\n      <td>1.019259e-01</td>\n      <td>0.983126</td>\n    </tr>\n    <tr>\n      <th>min</th>\n      <td>-1.071795e+00</td>\n      <td>-0.942948</td>\n      <td>-9.948316e-01</td>\n      <td>-7.103086e-01</td>\n      <td>-7.703987e-01</td>\n      <td>-5.340286e-01</td>\n      <td>-5.993764e-01</td>\n      <td>-5.870697e-01</td>\n      <td>-6.282749e-01</td>\n      <td>-4.902647e-01</td>\n      <td>-6.340463e-01</td>\n      <td>-5.906469e-01</td>\n      <td>-4.175135e-01</td>\n      <td>-4.311070e-01</td>\n      <td>-4.169906e-01</td>\n      <td>-3.601460e-01</td>\n      <td>-3.044000</td>\n    </tr>\n    <tr>\n      <th>25%</th>\n      <td>-2.804085e-01</td>\n      <td>-0.261373</td>\n      <td>-2.090797e-01</td>\n      <td>-1.945196e-01</td>\n      <td>-1.315620e-01</td>\n      <td>-1.264090e-01</td>\n      <td>-1.236356e-01</td>\n      <td>-1.016477e-01</td>\n      <td>-9.662436e-02</td>\n      <td>-9.296823e-02</td>\n      <td>-8.202294e-02</td>\n      <td>-7.719893e-02</td>\n      <td>-7.134715e-02</td>\n      <td>-7.471739e-02</td>\n      <td>-7.700447e-02</td>\n      <td>-6.605244e-02</td>\n      <td>-0.347500</td>\n    </tr>\n    <tr>\n      <th>50%</th>\n      <td>-1.417104e-02</td>\n      <td>-0.012772</td>\n      <td>2.112164e-02</td>\n      <td>-2.337399e-02</td>\n      <td>-5.122878e-03</td>\n      <td>-1.355367e-02</td>\n      <td>-1.745890e-04</td>\n      <td>-4.656240e-03</td>\n      <td>2.575781e-03</td>\n      <td>-1.477202e-03</td>\n      <td>7.276437e-03</td>\n      <td>-5.697715e-03</td>\n      <td>-4.139221e-03</td>\n      <td>1.038501e-03</td>\n      <td>-1.790570e-03</td>\n      <td>-7.493705e-04</td>\n      <td>0.312500</td>\n    </tr>\n    <tr>\n      <th>75%</th>\n      <td>2.287306e-01</td>\n      <td>0.231772</td>\n      <td>2.069571e-01</td>\n      <td>1.657590e-01</td>\n      <td>1.281660e-01</td>\n      <td>9.993095e-02</td>\n      <td>1.272075e-01</td>\n      <td>9.657206e-02</td>\n      <td>1.002697e-01</td>\n      <td>9.059545e-02</td>\n      <td>8.834017e-02</td>\n      <td>7.148620e-02</td>\n      <td>6.776741e-02</td>\n      <td>7.577765e-02</td>\n      <td>7.113513e-02</td>\n      <td>6.362831e-02</td>\n      <td>0.793750</td>\n    </tr>\n    <tr>\n      <th>max</th>\n      <td>1.597730e+00</td>\n      <td>1.382802</td>\n      <td>1.010250e+00</td>\n      <td>1.448007e+00</td>\n      <td>1.034061e+00</td>\n      <td>1.358962e+00</td>\n      <td>6.191595e-01</td>\n      <td>7.370164e-01</td>\n      <td>6.448517e-01</td>\n      <td>5.839584e-01</td>\n      <td>6.405842e-01</td>\n      <td>6.779427e-01</td>\n      <td>5.157198e-01</td>\n      <td>4.978179e-01</td>\n      <td>4.674310e-01</td>\n      <td>4.570133e-01</td>\n      <td>2.538000</td>\n    </tr>\n  </tbody>\n</table>\n</div>"
     },
     "execution_count": 28,
     "metadata": {},
     "output_type": "execute_result"
    }
   ],
   "source": [
    "new_train_pca_16.describe()"
   ],
   "metadata": {
    "collapsed": false,
    "pycharm": {
     "name": "#%%\n"
    }
   }
  },
  {
   "cell_type": "markdown",
   "source": [
    "定义绘制模型学习曲线函数"
   ],
   "metadata": {
    "collapsed": false
   }
  },
  {
   "cell_type": "code",
   "execution_count": 29,
   "outputs": [],
   "source": [
    "import numpy as np\n",
    "import matplotlib.pyplot as plt\n",
    "def plot_learning_curve(estimator, title, X, y, ylim=None, cv=None,\n",
    "                        n_jobs=1, train_sizes=np.linspace(.1, 1.0, 5)):\n",
    "    plt.figure()\n",
    "    plt.title(title)\n",
    "    if ylim is not None:\n",
    "        plt.ylim(*ylim)\n",
    "    plt.xlabel(\"Training examples\")\n",
    "    plt.ylabel(\"Score\")\n",
    "    train_sizes, train_scores, test_scores = learning_curve(\n",
    "        estimator, X, y, cv=cv, n_jobs=n_jobs, train_sizes=train_sizes)\n",
    "    train_scores_mean = np.mean(train_scores, axis=1)\n",
    "    train_scores_std = np.std(train_scores, axis=1)\n",
    "    test_scores_mean = np.mean(test_scores, axis=1)\n",
    "    test_scores_std = np.std(test_scores, axis=1)\n",
    "\n",
    "    print(train_scores_mean)\n",
    "    print(test_scores_mean)\n",
    "\n",
    "    plt.grid()\n",
    "\n",
    "    plt.fill_between(train_sizes, train_scores_mean - train_scores_std,\n",
    "                     train_scores_mean + train_scores_std, alpha=0.1,\n",
    "                     color=\"r\")\n",
    "    plt.fill_between(train_sizes, test_scores_mean - test_scores_std,\n",
    "                     test_scores_mean + test_scores_std, alpha=0.1, color=\"g\")\n",
    "    plt.plot(train_sizes, train_scores_mean, 'o-', color=\"r\",\n",
    "             label=\"Training score\")\n",
    "    plt.plot(train_sizes, test_scores_mean, 'o-', color=\"g\",\n",
    "             label=\"Cross-validation score\")\n",
    "\n",
    "    plt.legend(loc=\"best\")\n",
    "    return plt"
   ],
   "metadata": {
    "collapsed": false,
    "pycharm": {
     "name": "#%%\n"
    }
   }
  },
  {
   "cell_type": "markdown",
   "source": [
    "线性回归"
   ],
   "metadata": {
    "collapsed": false
   }
  },
  {
   "cell_type": "code",
   "execution_count": 30,
   "outputs": [
    {
     "name": "stdout",
     "output_type": "stream",
     "text": [
      "LinearRegression:    4.2299817114042705e-31\n"
     ]
    }
   ],
   "source": [
    "clf = LinearRegression()\n",
    "clf.fit(train_data, train_target)\n",
    "score = mean_squared_error(test_target, clf.predict(test_data))\n",
    "print(\"LinearRegression:   \", score)"
   ],
   "metadata": {
    "collapsed": false,
    "pycharm": {
     "name": "#%%\n"
    }
   }
  },
  {
   "cell_type": "code",
   "execution_count": 31,
   "outputs": [
    {
     "name": "stdout",
     "output_type": "stream",
     "text": [
      "[1. 1. 1. 1. 1.]\n",
      "[1. 1. 1. 1. 1.]\n"
     ]
    },
    {
     "data": {
      "text/plain": "<module 'matplotlib.pyplot' from 'd:\\\\pycharmprojects\\\\myproject\\\\venv\\\\lib\\\\site-packages\\\\matplotlib\\\\pyplot.py'>"
     },
     "execution_count": 31,
     "metadata": {},
     "output_type": "execute_result"
    },
    {
     "data": {
      "text/plain": "<Figure size 432x288 with 1 Axes>",
      "image/png": "[encoded data removed]"
     },
     "metadata": {
      "needs_background": "light"
     },
     "output_type": "display_data"
    }
   ],
   "source": [
    "\n",
    "X = train_data.values\n",
    "y = train_target.values\n",
    "# 图一\n",
    "title = r\"LinearRegression\"\n",
    "cv = ShuffleSplit(n_splits=100, test_size=0.2, random_state=0)\n",
    "estimator = LinearRegression()    #建模\n",
    "plot_learning_curve(estimator, title, X, y, ylim=(0.5, 1.1), cv=cv, n_jobs=1)"
   ],
   "metadata": {
    "collapsed": false,
    "pycharm": {
     "name": "#%%\n"
    }
   }
  },
  {
   "cell_type": "markdown",
   "source": [
    "k近邻回归"
   ],
   "metadata": {
    "collapsed": false
   }
  },
  {
   "cell_type": "code",
   "execution_count": 32,
   "outputs": [
    {
     "name": "stdout",
     "output_type": "stream",
     "text": [
      "[0.97405846 0.98571823 0.98841474 0.98971206 0.99056085]\n",
      "[0.96649716 0.98142671 0.98475336 0.98650507 0.98772229]\n"
     ]
    },
    {
     "data": {
      "text/plain": "<module 'matplotlib.pyplot' from 'd:\\\\pycharmprojects\\\\myproject\\\\venv\\\\lib\\\\site-packages\\\\matplotlib\\\\pyplot.py'>"
     },
     "execution_count": 32,
     "metadata": {},
     "output_type": "execute_result"
    },
    {
     "data": {
      "text/plain": "<Figure size 432x288 with 1 Axes>",
      "image/png": "[encoded data removed]"
     },
     "metadata": {
      "needs_background": "light"
     },
     "output_type": "display_data"
    }
   ],
   "source": [
    "X = train_data.values\n",
    "y = train_target.values\n",
    "\n",
    "# K近邻回归\n",
    "title = r\"KNeighborsRegressor\"\n",
    "cv = ShuffleSplit(n_splits=100, test_size=0.2, random_state=0)\n",
    "\n",
    "estimator = KNeighborsRegressor(n_neighbors=8)    #建模\n",
    "plot_learning_curve(estimator, title, X, y, ylim=(0.3, 1.1), cv=cv, n_jobs=1)"
   ],
   "metadata": {
    "collapsed": false,
    "pycharm": {
     "name": "#%%\n"
    }
   }
  },
  {
   "cell_type": "markdown",
   "source": [
    "决策树回归"
   ],
   "metadata": {
    "collapsed": false
   }
  },
  {
   "cell_type": "code",
   "execution_count": 33,
   "outputs": [
    {
     "name": "stdout",
     "output_type": "stream",
     "text": [
      "DecisionTreeRegressor:    8.157266435986168e-05\n"
     ]
    }
   ],
   "source": [
    "clf = DecisionTreeRegressor()\n",
    "clf.fit(train_data, train_target)\n",
    "\n",
    "score = mean_squared_error(test_target, clf.predict(test_data))\n",
    "print(\"DecisionTreeRegressor:   \", score)"
   ],
   "metadata": {
    "collapsed": false,
    "pycharm": {
     "name": "#%%\n"
    }
   }
  },
  {
   "cell_type": "code",
   "execution_count": 34,
   "outputs": [
    {
     "name": "stdout",
     "output_type": "stream",
     "text": [
      "[1. 1. 1. 1. 1.]\n",
      "[0.99031089 0.99853157 0.99940641 0.99966686 0.99976407]\n"
     ]
    },
    {
     "data": {
      "text/plain": "<module 'matplotlib.pyplot' from 'd:\\\\pycharmprojects\\\\myproject\\\\venv\\\\lib\\\\site-packages\\\\matplotlib\\\\pyplot.py'>"
     },
     "execution_count": 34,
     "metadata": {},
     "output_type": "execute_result"
    },
    {
     "data": {
      "text/plain": "<Figure size 432x288 with 1 Axes>",
      "image/png": "[encoded data removed]"
     },
     "metadata": {
      "needs_background": "light"
     },
     "output_type": "display_data"
    }
   ],
   "source": [
    "X = train_data.values\n",
    "y = train_target.values\n",
    "\n",
    "# 决策树回归\n",
    "title = r\"DecisionTreeRegressor\"\n",
    "cv = ShuffleSplit(n_splits=100, test_size=0.2, random_state=0)\n",
    "\n",
    "estimator = DecisionTreeRegressor()    #建模\n",
    "plot_learning_curve(estimator, title, X, y, ylim=(0.1, 1.1), cv=cv, n_jobs=1)"
   ],
   "metadata": {
    "collapsed": false,
    "pycharm": {
     "name": "#%%\n"
    }
   }
  },
  {
   "cell_type": "markdown",
   "source": [
    "随机森林回归"
   ],
   "metadata": {
    "collapsed": false
   }
  },
  {
   "cell_type": "code",
   "execution_count": 35,
   "outputs": [
    {
     "name": "stdout",
     "output_type": "stream",
     "text": [
      "RandomForestRegressor:    2.584169935121232e-05\n"
     ]
    }
   ],
   "source": [
    "clf = RandomForestRegressor(n_estimators=200) # 200棵树模型\n",
    "clf.fit(train_data, train_target)\n",
    "score = mean_squared_error(test_target, clf.predict(test_data))\n",
    "print(\"RandomForestRegressor:   \", score)"
   ],
   "metadata": {
    "collapsed": false,
    "pycharm": {
     "name": "#%%\n"
    }
   }
  },
  {
   "cell_type": "markdown",
   "source": [
    "lgb回归模型"
   ],
   "metadata": {
    "collapsed": false
   }
  },
  {
   "cell_type": "code",
   "execution_count": 37,
   "outputs": [
    {
     "name": "stdout",
     "output_type": "stream",
     "text": [
      "lightGbm:    0.0005402758726609755\n"
     ]
    }
   ],
   "source": [
    "# lgb回归模型\n",
    "clf = lgb.LGBMRegressor(\n",
    "        learning_rate=0.01,\n",
    "        max_depth=-1,\n",
    "        n_estimators=5000,\n",
    "        boosting_type='gbdt',\n",
    "        random_state=2019,\n",
    "        objective='regression',\n",
    "    )\n",
    "\n",
    "# 训练模型\n",
    "clf.fit(\n",
    "        X=train_data, y=train_target,\n",
    "        eval_metric='MSE',\n",
    "        verbose=50\n",
    "    )\n",
    "\n",
    "score = mean_squared_error(test_target, clf.predict(test_data))\n",
    "print(\"lightGbm:   \", score)"
   ],
   "metadata": {
    "collapsed": false,
    "pycharm": {
     "name": "#%%\n"
    }
   }
  },
  {
   "cell_type": "code",
   "execution_count": 38,
   "outputs": [
    {
     "name": "stdout",
     "output_type": "stream",
     "text": [
      "[0.81582141 0.85994239 0.8638794  0.8644675  0.86489335]\n",
      "[0.80844426 0.85840262 0.86305761 0.86388367 0.86442525]\n"
     ]
    },
    {
     "data": {
      "text/plain": "<module 'matplotlib.pyplot' from 'd:\\\\pycharmprojects\\\\myproject\\\\venv\\\\lib\\\\site-packages\\\\matplotlib\\\\pyplot.py'>"
     },
     "execution_count": 38,
     "metadata": {},
     "output_type": "execute_result"
    },
    {
     "data": {
      "text/plain": "<Figure size 432x288 with 1 Axes>",
      "image/png": "[encoded data removed]"
     },
     "metadata": {
      "needs_background": "light"
     },
     "output_type": "display_data"
    }
   ],
   "source": [
    "X = train_data.values\n",
    "y = train_target.values\n",
    "\n",
    "# K近邻回归\n",
    "title = r\"LGBMRegressor\"\n",
    "cv = ShuffleSplit(n_splits=100, test_size=0.2, random_state=0)\n",
    "\n",
    "estimator = lgb.LGBMRegressor(\n",
    "    learning_rate=0.01,\n",
    "    max_depth=-1,\n",
    "    n_estimators=100,\n",
    "    boosting_type='gbdt',\n",
    "    random_state=2019,\n",
    "    objective='regression'\n",
    "    )    #建模\n",
    "\n",
    "plot_learning_curve(estimator, title, X, y, ylim=(0.4, 1.0), cv=cv, n_jobs=1)"
   ],
   "metadata": {
    "collapsed": false,
    "pycharm": {
     "name": "#%%\n"
    }
   }
  },
  {
   "cell_type": "markdown",
   "source": [
    "随机森林的随机参数优化&网格优化"
   ],
   "metadata": {
    "collapsed": false
   }
  },
  {
   "cell_type": "code",
   "execution_count": 39,
   "outputs": [
    {
     "name": "stdout",
     "output_type": "stream",
     "text": [
      "Best parameters:{'n_estimators': 300, 'max_depth': 5}\n",
      "RandomForestRegressor RandomizedSearchCV test MSE:    0.00026393551203023096\n"
     ]
    },
    {
     "data": {
      "text/plain": "['mean_fit_time',\n 'mean_score_time',\n 'mean_test_score',\n 'param_max_depth',\n 'param_n_estimators',\n 'params',\n 'rank_test_score',\n 'split0_test_score',\n 'split1_test_score',\n 'split2_test_score',\n 'split3_test_score',\n 'split4_test_score',\n 'std_fit_time',\n 'std_score_time',\n 'std_test_score']"
     },
     "execution_count": 39,
     "metadata": {},
     "output_type": "execute_result"
    }
   ],
   "source": [
    "from sklearn.model_selection import RandomizedSearchCV\n",
    "randomForestRegressor = RandomForestRegressor()\n",
    "parameters = {\n",
    "              'n_estimators':[50, 100, 200, 300],\n",
    "              'max_depth':[1, 2, 3, 4, 5]\n",
    "        }\n",
    "clf = RandomizedSearchCV(randomForestRegressor, parameters, cv=5)\n",
    "clf.fit(train_data, train_target)\n",
    "\n",
    "score_test = mean_squared_error(test_target, clf.predict(test_data))\n",
    "print(\"Best parameters:{}\".format(clf.best_params_))\n",
    "print(\"RandomForestRegressor RandomizedSearchCV test MSE:   \", score_test)\n",
    "sorted(clf.cv_results_.keys())"
   ],
   "metadata": {
    "collapsed": false,
    "pycharm": {
     "name": "#%%\n"
    }
   }
  },
  {
   "cell_type": "code",
   "execution_count": null,
   "outputs": [],
   "source": [
    "from sklearn.model_selection import GridSearchCV\n",
    "# 切分数据 训练数据80% 验证数据20%\n",
    "train_data,test_data,train_target,test_target=train_test_split(train,target,test_size=0.2,random_state=0)\n",
    "\n",
    "randomForestRegressor = RandomForestRegressor()\n",
    "parameters = {\n",
    "              'n_estimators':[50, 100, 200],\n",
    "              'max_depth':[1, 2, 3]\n",
    "        }\n",
    "\n",
    "\n",
    "clf = GridSearchCV(randomForestRegressor, parameters, cv=5)\n",
    "clf.fit(train_data, train_target)\n",
    "\n",
    "score_test = mean_squared_error(test_target, clf.predict(test_data))\n",
    "\n",
    "print(\"RandomForestRegressor RandomSearchCV test MSE:   \", score_test)\n",
    "sorted(clf.cv_results_.keys())"
   ],
   "metadata": {
    "collapsed": false,
    "pycharm": {
     "name": "#%%\n"
    }
   }
  },
  {
   "cell_type": "markdown",
   "source": [
    "绘制学习曲线、验证曲线"
   ],
   "metadata": {
    "collapsed": false
   }
  },
  {
   "cell_type": "code",
   "execution_count": 55,
   "outputs": [
    {
     "data": {
      "text/plain": "<module 'matplotlib.pyplot' from 'd:\\\\pycharmprojects\\\\myproject\\\\venv\\\\lib\\\\site-packages\\\\matplotlib\\\\pyplot.py'>"
     },
     "execution_count": 55,
     "metadata": {},
     "output_type": "execute_result"
    },
    {
     "data": {
      "text/plain": "<Figure size 432x288 with 1 Axes>",
      "image/png": "[encoded data removed]"
     },
     "metadata": {
      "needs_background": "light"
     },
     "output_type": "display_data"
    }
   ],
   "source": [
    "pca_train_data_file = \"./data/zhengqi_train.txt\"\n",
    "pca_test_data_file =  \"./data/zhengqi_test.txt\"\n",
    "train_data = pd.read_csv(pca_train_data_file, sep='\\t', encoding='utf-8')\n",
    "test_data = pd.read_csv(pca_test_data_file, sep='\\t', encoding='utf-8')\n",
    "import numpy as np\n",
    "from sklearn import model_selection\n",
    "from sklearn.linear_model import SGDRegressor\n",
    "from sklearn.model_selection import learning_curve\n",
    "\n",
    "\n",
    "def plot_learning_curve(estimator, title, X, y, ylim=None, cv=None,\n",
    "                        n_jobs=1, train_sizes=np.linspace(.1, 1.0, 5)):\n",
    "\n",
    "    plt.figure()\n",
    "    plt.title(title)\n",
    "    if ylim is not None:\n",
    "        plt.ylim(*ylim)\n",
    "    plt.xlabel(\"Training examples\")\n",
    "    plt.ylabel(\"Score\")\n",
    "    train_sizes, train_scores, test_scores = learning_curve(\n",
    "        estimator, X, y, cv=cv, n_jobs=n_jobs, train_sizes=train_sizes)\n",
    "    train_scores_mean = np.mean(train_scores, axis=1)\n",
    "    train_scores_std = np.std(train_scores, axis=1)\n",
    "    test_scores_mean = np.mean(test_scores, axis=1)\n",
    "    test_scores_std = np.std(test_scores, axis=1)\n",
    "    plt.grid()\n",
    "\n",
    "    plt.fill_between(train_sizes, train_scores_mean - train_scores_std,\n",
    "                     train_scores_mean + train_scores_std, alpha=0.1,\n",
    "                     color=\"r\")\n",
    "    plt.fill_between(train_sizes, test_scores_mean - test_scores_std,\n",
    "                     test_scores_mean + test_scores_std, alpha=0.1, color=\"g\")\n",
    "    plt.plot(train_sizes, train_scores_mean, 'o-', color=\"r\",\n",
    "             label=\"Training score\")\n",
    "    plt.plot(train_sizes, test_scores_mean, 'o-', color=\"g\",\n",
    "             label=\"Cross-validation score\")\n",
    "\n",
    "    plt.legend(loc=\"best\")\n",
    "    return plt\n",
    "\n",
    "\n",
    "X = train_data[test_data.columns].values\n",
    "y = train_data['target'].values\n",
    "\n",
    "\n",
    "title = \"RF-Regression\"\n",
    "# Cross validation with 100 iterations to get smoother mean test and train\n",
    "# score curves, each time with 20% data randomly selected as a validation set.\n",
    "cv = model_selection.ShuffleSplit(X.shape[0],\n",
    "                                   test_size=0.2, random_state=0)\n",
    "\n",
    "# estimator = RandomForestRegressor(n_estimators=300,max_depth=5)\n",
    "estimator = SGDRegressor()\n",
    "plot_learning_curve(estimator, title, X, y, ylim=(0.1, 1.1), cv=cv, n_jobs=-1)"
   ],
   "metadata": {
    "collapsed": false,
    "pycharm": {
     "name": "#%%\n"
    }
   }
  },
  {
   "cell_type": "code",
   "execution_count": 56,
   "outputs": [
    {
     "data": {
      "text/plain": "<Figure size 432x288 with 1 Axes>",
      "image/png": "[encoded data removed]"
     },
     "metadata": {
      "needs_background": "light"
     },
     "output_type": "display_data"
    }
   ],
   "source": [
    "from sklearn.model_selection import validation_curve\n",
    "\n",
    "X = train_data[test_data.columns].values\n",
    "y = train_data['target'].values\n",
    "# max_iter=1000, tol=1e-3, penalty= 'L1', alpha=0.00001\n",
    "\n",
    "param_range = [0.1, 0.01, 0.001, 0.0001, 0.00001, 0.000001]\n",
    "train_scores, test_scores = validation_curve(\n",
    "    SGDRegressor(max_iter=1000, tol=1e-3, penalty= 'L1'), X, y, param_name=\"alpha\", param_range=param_range,\n",
    "    cv=10, scoring='r2', n_jobs=1)\n",
    "train_scores_mean = np.mean(train_scores, axis=1)\n",
    "train_scores_std = np.std(train_scores, axis=1)\n",
    "test_scores_mean = np.mean(test_scores, axis=1)\n",
    "test_scores_std = np.std(test_scores, axis=1)\n",
    "\n",
    "plt.title(\"Validation Curve with SGDRegressor\")\n",
    "plt.xlabel(\"alpha\")\n",
    "plt.ylabel(\"Score\")\n",
    "plt.ylim(0.0, 1.1)\n",
    "plt.semilogx(param_range, train_scores_mean, label=\"Training score\", color=\"r\")\n",
    "plt.fill_between(param_range, train_scores_mean - train_scores_std,\n",
    "                 train_scores_mean + train_scores_std, alpha=0.2, color=\"r\")\n",
    "plt.semilogx(param_range, test_scores_mean, label=\"Cross-validation score\",\n",
    "             color=\"g\")\n",
    "plt.fill_between(param_range, test_scores_mean - test_scores_std,\n",
    "                 test_scores_mean + test_scores_std, alpha=0.2, color=\"g\")\n",
    "plt.legend(loc=\"best\")\n",
    "plt.show()"
   ],
   "metadata": {
    "collapsed": false,
    "pycharm": {
     "name": "#%%\n"
    }
   }
  },
  {
   "cell_type": "code",
   "execution_count": null,
   "outputs": [],
   "source": [],
   "metadata": {
    "collapsed": false,
    "pycharm": {
     "name": "#%%\n"
    }
   }
  }
 ],
 "metadata": {
  "kernelspec": {
   "display_name": "Python 3",
   "language": "python",
   "name": "python3"
  },
  "language_info": {
   "codemirror_mode": {
    "name": "ipython",
    "version": 2
   },
   "file_extension": ".py",
   "mimetype": "text/x-python",
   "name": "python",
   "nbconvert_exporter": "python",
   "pygments_lexer": "ipython2",
   "version": "2.7.6"
  }
 },
 "nbformat": 4,
 "nbformat_minor": 0
}