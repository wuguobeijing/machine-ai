{
 "cells": [
  {
   "cell_type": "code",
   "execution_count": 1,
   "metadata": {
    "collapsed": true
   },
   "outputs": [],
   "source": [
    "import pandas as pd\n",
    "\n",
    "train_data_file = \"./data/zhengqi_train.txt\"\n",
    "test_data_file =  \"./data/zhengqi_test.txt\"\n",
    "\n",
    "train_data = pd.read_csv(train_data_file, sep='\\t', encoding='utf-8')\n",
    "test_data = pd.read_csv(test_data_file, sep='\\t', encoding='utf-8')"
   ]
  },
  {
   "cell_type": "code",
   "execution_count": 2,
   "outputs": [
    {
     "data": {
      "text/plain": "         V0     V1     V2     V3     V4     V5     V6     V7     V8     V9  \\\n0     0.566  0.016 -0.143  0.407  0.452 -0.901 -1.812 -2.360 -0.436 -2.114   \n1     0.968  0.437  0.066  0.566  0.194 -0.893 -1.566 -2.360  0.332 -2.114   \n2     1.013  0.568  0.235  0.370  0.112 -0.797 -1.367 -2.360  0.396 -2.114   \n3     0.733  0.368  0.283  0.165  0.599 -0.679 -1.200 -2.086  0.403 -2.114   \n4     0.684  0.638  0.260  0.209  0.337 -0.454 -1.073 -2.086  0.314 -2.114   \n...     ...    ...    ...    ...    ...    ...    ...    ...    ...    ...   \n2883  0.190 -0.025 -0.138  0.161  0.600 -0.212  0.757  0.584 -0.026  0.904   \n2884  0.507  0.557  0.296  0.183  0.530 -0.237  0.749  0.584  0.537  0.904   \n2885 -0.394 -0.721 -0.485  0.084  0.136  0.034  0.655  0.614 -0.818  0.904   \n2886 -0.219 -0.282 -0.344 -0.049  0.449 -0.140  0.560  0.583 -0.596  0.904   \n2887  0.368  0.380 -0.225 -0.049  0.379  0.092  0.550  0.551  0.244  0.904   \n\n      ...    V29    V30    V31    V32    V33    V34    V35    V36    V37  \\\n0     ...  0.136  0.109 -0.615  0.327 -4.627 -4.789 -5.101 -2.608 -3.508   \n1     ... -0.128  0.124  0.032  0.600 -0.843  0.160  0.364 -0.335 -0.730   \n2     ... -0.009  0.361  0.277 -0.116 -0.843  0.160  0.364  0.765 -0.589   \n3     ...  0.015  0.417  0.279  0.603 -0.843 -0.065  0.364  0.333 -0.112   \n4     ...  0.183  1.078  0.328  0.418 -0.843 -0.215  0.364 -0.280 -0.028   \n...   ...    ...    ...    ...    ...    ...    ...    ...    ...    ...   \n2883  ...  0.128 -0.208  0.809 -0.173  0.247 -0.027 -0.349  0.576  0.686   \n2884  ...  0.291 -0.287  0.465 -0.310  0.763  0.498 -0.349 -0.615 -0.380   \n2885  ...  0.291 -0.179  0.268  0.552  0.763  0.498 -0.349  0.951  0.748   \n2886  ...  0.216  1.061 -0.051  1.023  0.878  0.610 -0.230 -0.301  0.555   \n2887  ...  0.047  0.057 -0.042  0.847  0.534 -0.009 -0.190 -0.567  0.388   \n\n      target  \n0      0.175  \n1      0.676  \n2      0.633  \n3      0.206  \n4      0.384  \n...      ...  \n2883   0.235  \n2884   1.042  \n2885   0.005  \n2886   0.350  \n2887   0.417  \n\n[2888 rows x 39 columns]",
      "text/html": "<div>\n<style scoped>\n    .dataframe tbody tr th:only-of-type {\n        vertical-align: middle;\n    }\n\n    .dataframe tbody tr th {\n        vertical-align: top;\n    }\n\n    .dataframe thead th {\n        text-align: right;\n    }\n</style>\n<table border=\"1\" class=\"dataframe\">\n  <thead>\n    <tr style=\"text-align: right;\">\n      <th></th>\n      <th>V0</th>\n      <th>V1</th>\n      <th>V2</th>\n      <th>V3</th>\n      <th>V4</th>\n      <th>V5</th>\n      <th>V6</th>\n      <th>V7</th>\n      <th>V8</th>\n      <th>V9</th>\n      <th>...</th>\n      <th>V29</th>\n      <th>V30</th>\n      <th>V31</th>\n      <th>V32</th>\n      <th>V33</th>\n      <th>V34</th>\n      <th>V35</th>\n      <th>V36</th>\n      <th>V37</th>\n      <th>target</th>\n    </tr>\n  </thead>\n  <tbody>\n    <tr>\n      <th>0</th>\n      <td>0.566</td>\n      <td>0.016</td>\n      <td>-0.143</td>\n      <td>0.407</td>\n      <td>0.452</td>\n      <td>-0.901</td>\n      <td>-1.812</td>\n      <td>-2.360</td>\n      <td>-0.436</td>\n      <td>-2.114</td>\n      <td>...</td>\n      <td>0.136</td>\n      <td>0.109</td>\n      <td>-0.615</td>\n      <td>0.327</td>\n      <td>-4.627</td>\n      <td>-4.789</td>\n      <td>-5.101</td>\n      <td>-2.608</td>\n      <td>-3.508</td>\n      <td>0.175</td>\n    </tr>\n    <tr>\n      <th>1</th>\n      <td>0.968</td>\n      <td>0.437</td>\n      <td>0.066</td>\n      <td>0.566</td>\n      <td>0.194</td>\n      <td>-0.893</td>\n      <td>-1.566</td>\n      <td>-2.360</td>\n      <td>0.332</td>\n      <td>-2.114</td>\n      <td>...</td>\n      <td>-0.128</td>\n      <td>0.124</td>\n      <td>0.032</td>\n      <td>0.600</td>\n      <td>-0.843</td>\n      <td>0.160</td>\n      <td>0.364</td>\n      <td>-0.335</td>\n      <td>-0.730</td>\n      <td>0.676</td>\n    </tr>\n    <tr>\n      <th>2</th>\n      <td>1.013</td>\n      <td>0.568</td>\n      <td>0.235</td>\n      <td>0.370</td>\n      <td>0.112</td>\n      <td>-0.797</td>\n      <td>-1.367</td>\n      <td>-2.360</td>\n      <td>0.396</td>\n      <td>-2.114</td>\n      <td>...</td>\n      <td>-0.009</td>\n      <td>0.361</td>\n      <td>0.277</td>\n      <td>-0.116</td>\n      <td>-0.843</td>\n      <td>0.160</td>\n      <td>0.364</td>\n      <td>0.765</td>\n      <td>-0.589</td>\n      <td>0.633</td>\n    </tr>\n    <tr>\n      <th>3</th>\n      <td>0.733</td>\n      <td>0.368</td>\n      <td>0.283</td>\n      <td>0.165</td>\n      <td>0.599</td>\n      <td>-0.679</td>\n      <td>-1.200</td>\n      <td>-2.086</td>\n      <td>0.403</td>\n      <td>-2.114</td>\n      <td>...</td>\n      <td>0.015</td>\n      <td>0.417</td>\n      <td>0.279</td>\n      <td>0.603</td>\n      <td>-0.843</td>\n      <td>-0.065</td>\n      <td>0.364</td>\n      <td>0.333</td>\n      <td>-0.112</td>\n      <td>0.206</td>\n    </tr>\n    <tr>\n      <th>4</th>\n      <td>0.684</td>\n      <td>0.638</td>\n      <td>0.260</td>\n      <td>0.209</td>\n      <td>0.337</td>\n      <td>-0.454</td>\n      <td>-1.073</td>\n      <td>-2.086</td>\n      <td>0.314</td>\n      <td>-2.114</td>\n      <td>...</td>\n      <td>0.183</td>\n      <td>1.078</td>\n      <td>0.328</td>\n      <td>0.418</td>\n      <td>-0.843</td>\n      <td>-0.215</td>\n      <td>0.364</td>\n      <td>-0.280</td>\n      <td>-0.028</td>\n      <td>0.384</td>\n    </tr>\n    <tr>\n      <th>...</th>\n      <td>...</td>\n      <td>...</td>\n      <td>...</td>\n      <td>...</td>\n      <td>...</td>\n      <td>...</td>\n      <td>...</td>\n      <td>...</td>\n      <td>...</td>\n      <td>...</td>\n      <td>...</td>\n      <td>...</td>\n      <td>...</td>\n      <td>...</td>\n      <td>...</td>\n      <td>...</td>\n      <td>...</td>\n      <td>...</td>\n      <td>...</td>\n      <td>...</td>\n      <td>...</td>\n    </tr>\n    <tr>\n      <th>2883</th>\n      <td>0.190</td>\n      <td>-0.025</td>\n      <td>-0.138</td>\n      <td>0.161</td>\n      <td>0.600</td>\n      <td>-0.212</td>\n      <td>0.757</td>\n      <td>0.584</td>\n      <td>-0.026</td>\n      <td>0.904</td>\n      <td>...</td>\n      <td>0.128</td>\n      <td>-0.208</td>\n      <td>0.809</td>\n      <td>-0.173</td>\n      <td>0.247</td>\n      <td>-0.027</td>\n      <td>-0.349</td>\n      <td>0.576</td>\n      <td>0.686</td>\n      <td>0.235</td>\n    </tr>\n    <tr>\n      <th>2884</th>\n      <td>0.507</td>\n      <td>0.557</td>\n      <td>0.296</td>\n      <td>0.183</td>\n      <td>0.530</td>\n      <td>-0.237</td>\n      <td>0.749</td>\n      <td>0.584</td>\n      <td>0.537</td>\n      <td>0.904</td>\n      <td>...</td>\n      <td>0.291</td>\n      <td>-0.287</td>\n      <td>0.465</td>\n      <td>-0.310</td>\n      <td>0.763</td>\n      <td>0.498</td>\n      <td>-0.349</td>\n      <td>-0.615</td>\n      <td>-0.380</td>\n      <td>1.042</td>\n    </tr>\n    <tr>\n      <th>2885</th>\n      <td>-0.394</td>\n      <td>-0.721</td>\n      <td>-0.485</td>\n      <td>0.084</td>\n      <td>0.136</td>\n      <td>0.034</td>\n      <td>0.655</td>\n      <td>0.614</td>\n      <td>-0.818</td>\n      <td>0.904</td>\n      <td>...</td>\n      <td>0.291</td>\n      <td>-0.179</td>\n      <td>0.268</td>\n      <td>0.552</td>\n      <td>0.763</td>\n      <td>0.498</td>\n      <td>-0.349</td>\n      <td>0.951</td>\n      <td>0.748</td>\n      <td>0.005</td>\n    </tr>\n    <tr>\n      <th>2886</th>\n      <td>-0.219</td>\n      <td>-0.282</td>\n      <td>-0.344</td>\n      <td>-0.049</td>\n      <td>0.449</td>\n      <td>-0.140</td>\n      <td>0.560</td>\n      <td>0.583</td>\n      <td>-0.596</td>\n      <td>0.904</td>\n      <td>...</td>\n      <td>0.216</td>\n      <td>1.061</td>\n      <td>-0.051</td>\n      <td>1.023</td>\n      <td>0.878</td>\n      <td>0.610</td>\n      <td>-0.230</td>\n      <td>-0.301</td>\n      <td>0.555</td>\n      <td>0.350</td>\n    </tr>\n    <tr>\n      <th>2887</th>\n      <td>0.368</td>\n      <td>0.380</td>\n      <td>-0.225</td>\n      <td>-0.049</td>\n      <td>0.379</td>\n      <td>0.092</td>\n      <td>0.550</td>\n      <td>0.551</td>\n      <td>0.244</td>\n      <td>0.904</td>\n      <td>...</td>\n      <td>0.047</td>\n      <td>0.057</td>\n      <td>-0.042</td>\n      <td>0.847</td>\n      <td>0.534</td>\n      <td>-0.009</td>\n      <td>-0.190</td>\n      <td>-0.567</td>\n      <td>0.388</td>\n      <td>0.417</td>\n    </tr>\n  </tbody>\n</table>\n<p>2888 rows × 39 columns</p>\n</div>"
     },
     "execution_count": 2,
     "metadata": {},
     "output_type": "execute_result"
    }
   ],
   "source": [
    "train_data"
   ],
   "metadata": {
    "collapsed": false,
    "pycharm": {
     "name": "#%%\n"
    }
   }
  },
  {
   "cell_type": "markdown",
   "source": [
    "定义特征方法"
   ],
   "metadata": {
    "collapsed": false
   }
  },
  {
   "cell_type": "code",
   "execution_count": 3,
   "outputs": [],
   "source": [
    "epsilon=1e-5\n",
    "\n",
    "#组交叉特征，可以自行定义，如增加： x*x/y, log(x)/y 等等\n",
    "func_dict = {\n",
    "            'add': lambda x,y: x+y,\n",
    "            'mins': lambda x,y: x-y,\n",
    "            'div': lambda x,y: x/(y+epsilon),\n",
    "            'multi': lambda x,y: x*y\n",
    "            }"
   ],
   "metadata": {
    "collapsed": false,
    "pycharm": {
     "name": "#%%\n"
    }
   }
  },
  {
   "cell_type": "markdown",
   "source": [
    "定义特征构造的函数"
   ],
   "metadata": {
    "collapsed": false
   }
  },
  {
   "cell_type": "code",
   "execution_count": 4,
   "outputs": [],
   "source": [
    "def auto_features_make(train_data,test_data,func_dict,col_list):\n",
    "    train_data, test_data = train_data.copy(), test_data.copy()\n",
    "    for col_i in col_list:\n",
    "        for col_j in col_list:\n",
    "            for func_name, func in func_dict.items():\n",
    "                for data in [train_data,test_data]:\n",
    "                    func_features = func(data[col_i],data[col_j])\n",
    "                    col_func_features = '-'.join([col_i,func_name,col_j])\n",
    "                    data[col_func_features] = func_features\n",
    "    return train_data,test_data"
   ],
   "metadata": {
    "collapsed": false,
    "pycharm": {
     "name": "#%%\n"
    }
   }
  },
  {
   "cell_type": "code",
   "execution_count": 5,
   "outputs": [
    {
     "data": {
      "text/plain": "         V0     V1     V2     V3     V4     V5     V6     V7     V8     V9  \\\n0     0.566  0.016 -0.143  0.407  0.452 -0.901 -1.812 -2.360 -0.436 -2.114   \n1     0.968  0.437  0.066  0.566  0.194 -0.893 -1.566 -2.360  0.332 -2.114   \n2     1.013  0.568  0.235  0.370  0.112 -0.797 -1.367 -2.360  0.396 -2.114   \n3     0.733  0.368  0.283  0.165  0.599 -0.679 -1.200 -2.086  0.403 -2.114   \n4     0.684  0.638  0.260  0.209  0.337 -0.454 -1.073 -2.086  0.314 -2.114   \n...     ...    ...    ...    ...    ...    ...    ...    ...    ...    ...   \n2883  0.190 -0.025 -0.138  0.161  0.600 -0.212  0.757  0.584 -0.026  0.904   \n2884  0.507  0.557  0.296  0.183  0.530 -0.237  0.749  0.584  0.537  0.904   \n2885 -0.394 -0.721 -0.485  0.084  0.136  0.034  0.655  0.614 -0.818  0.904   \n2886 -0.219 -0.282 -0.344 -0.049  0.449 -0.140  0.560  0.583 -0.596  0.904   \n2887  0.368  0.380 -0.225 -0.049  0.379  0.092  0.550  0.551  0.244  0.904   \n\n      ...  V37-div-V35  V37-multi-V35  V37-add-V36  V37-mins-V36  V37-div-V36  \\\n0     ...     0.687710      17.894308       -6.116        -0.900     1.345097   \n1     ...    -2.005439      -0.265720       -1.065        -0.395     2.179170   \n2     ...    -1.618087      -0.214396        0.176        -1.354    -0.769925   \n3     ...    -0.307684      -0.040768        0.221        -0.445    -0.336326   \n4     ...    -0.076921      -0.010192       -0.308         0.252     0.100004   \n...   ...          ...            ...          ...           ...          ...   \n2883  ...    -1.965672      -0.239414        1.262         0.110     1.190952   \n2884  ...     1.088856       0.132620       -0.995         0.235     0.617896   \n2885  ...    -2.143328      -0.261052        1.699        -0.203     0.786532   \n2886  ...    -2.413148      -0.127650        0.254         0.856    -1.843915   \n2887  ...    -2.042213      -0.073720       -0.179         0.955    -0.684315   \n\n      V37-multi-V36  V37-add-V37  V37-mins-V37  V37-div-V37  V37-multi-V37  \n0          9.148864       -7.016           0.0     1.000003      12.306064  \n1          0.244550       -1.460           0.0     1.000014       0.532900  \n2         -0.450585       -1.178           0.0     1.000017       0.346921  \n3         -0.037296       -0.224           0.0     1.000089       0.012544  \n4          0.007840       -0.056           0.0     1.000357       0.000784  \n...             ...          ...           ...          ...            ...  \n2883       0.395136        1.372           0.0     0.999985       0.470596  \n2884       0.233700       -0.760           0.0     1.000026       0.144400  \n2885       0.711348        1.496           0.0     0.999987       0.559504  \n2886      -0.167055        1.110           0.0     0.999982       0.308025  \n2887      -0.219996        0.776           0.0     0.999974       0.150544  \n\n[2888 rows x 5815 columns]",
      "text/html": "<div>\n<style scoped>\n    .dataframe tbody tr th:only-of-type {\n        vertical-align: middle;\n    }\n\n    .dataframe tbody tr th {\n        vertical-align: top;\n    }\n\n    .dataframe thead th {\n        text-align: right;\n    }\n</style>\n<table border=\"1\" class=\"dataframe\">\n  <thead>\n    <tr style=\"text-align: right;\">\n      <th></th>\n      <th>V0</th>\n      <th>V1</th>\n      <th>V2</th>\n      <th>V3</th>\n      <th>V4</th>\n      <th>V5</th>\n      <th>V6</th>\n      <th>V7</th>\n      <th>V8</th>\n      <th>V9</th>\n      <th>...</th>\n      <th>V37-div-V35</th>\n      <th>V37-multi-V35</th>\n      <th>V37-add-V36</th>\n      <th>V37-mins-V36</th>\n      <th>V37-div-V36</th>\n      <th>V37-multi-V36</th>\n      <th>V37-add-V37</th>\n      <th>V37-mins-V37</th>\n      <th>V37-div-V37</th>\n      <th>V37-multi-V37</th>\n    </tr>\n  </thead>\n  <tbody>\n    <tr>\n      <th>0</th>\n      <td>0.566</td>\n      <td>0.016</td>\n      <td>-0.143</td>\n      <td>0.407</td>\n      <td>0.452</td>\n      <td>-0.901</td>\n      <td>-1.812</td>\n      <td>-2.360</td>\n      <td>-0.436</td>\n      <td>-2.114</td>\n      <td>...</td>\n      <td>0.687710</td>\n      <td>17.894308</td>\n      <td>-6.116</td>\n      <td>-0.900</td>\n      <td>1.345097</td>\n      <td>9.148864</td>\n      <td>-7.016</td>\n      <td>0.0</td>\n      <td>1.000003</td>\n      <td>12.306064</td>\n    </tr>\n    <tr>\n      <th>1</th>\n      <td>0.968</td>\n      <td>0.437</td>\n      <td>0.066</td>\n      <td>0.566</td>\n      <td>0.194</td>\n      <td>-0.893</td>\n      <td>-1.566</td>\n      <td>-2.360</td>\n      <td>0.332</td>\n      <td>-2.114</td>\n      <td>...</td>\n      <td>-2.005439</td>\n      <td>-0.265720</td>\n      <td>-1.065</td>\n      <td>-0.395</td>\n      <td>2.179170</td>\n      <td>0.244550</td>\n      <td>-1.460</td>\n      <td>0.0</td>\n      <td>1.000014</td>\n      <td>0.532900</td>\n    </tr>\n    <tr>\n      <th>2</th>\n      <td>1.013</td>\n      <td>0.568</td>\n      <td>0.235</td>\n      <td>0.370</td>\n      <td>0.112</td>\n      <td>-0.797</td>\n      <td>-1.367</td>\n      <td>-2.360</td>\n      <td>0.396</td>\n      <td>-2.114</td>\n      <td>...</td>\n      <td>-1.618087</td>\n      <td>-0.214396</td>\n      <td>0.176</td>\n      <td>-1.354</td>\n      <td>-0.769925</td>\n      <td>-0.450585</td>\n      <td>-1.178</td>\n      <td>0.0</td>\n      <td>1.000017</td>\n      <td>0.346921</td>\n    </tr>\n    <tr>\n      <th>3</th>\n      <td>0.733</td>\n      <td>0.368</td>\n      <td>0.283</td>\n      <td>0.165</td>\n      <td>0.599</td>\n      <td>-0.679</td>\n      <td>-1.200</td>\n      <td>-2.086</td>\n      <td>0.403</td>\n      <td>-2.114</td>\n      <td>...</td>\n      <td>-0.307684</td>\n      <td>-0.040768</td>\n      <td>0.221</td>\n      <td>-0.445</td>\n      <td>-0.336326</td>\n      <td>-0.037296</td>\n      <td>-0.224</td>\n      <td>0.0</td>\n      <td>1.000089</td>\n      <td>0.012544</td>\n    </tr>\n    <tr>\n      <th>4</th>\n      <td>0.684</td>\n      <td>0.638</td>\n      <td>0.260</td>\n      <td>0.209</td>\n      <td>0.337</td>\n      <td>-0.454</td>\n      <td>-1.073</td>\n      <td>-2.086</td>\n      <td>0.314</td>\n      <td>-2.114</td>\n      <td>...</td>\n      <td>-0.076921</td>\n      <td>-0.010192</td>\n      <td>-0.308</td>\n      <td>0.252</td>\n      <td>0.100004</td>\n      <td>0.007840</td>\n      <td>-0.056</td>\n      <td>0.0</td>\n      <td>1.000357</td>\n      <td>0.000784</td>\n    </tr>\n    <tr>\n      <th>...</th>\n      <td>...</td>\n      <td>...</td>\n      <td>...</td>\n      <td>...</td>\n      <td>...</td>\n      <td>...</td>\n      <td>...</td>\n      <td>...</td>\n      <td>...</td>\n      <td>...</td>\n      <td>...</td>\n      <td>...</td>\n      <td>...</td>\n      <td>...</td>\n      <td>...</td>\n      <td>...</td>\n      <td>...</td>\n      <td>...</td>\n      <td>...</td>\n      <td>...</td>\n      <td>...</td>\n    </tr>\n    <tr>\n      <th>2883</th>\n      <td>0.190</td>\n      <td>-0.025</td>\n      <td>-0.138</td>\n      <td>0.161</td>\n      <td>0.600</td>\n      <td>-0.212</td>\n      <td>0.757</td>\n      <td>0.584</td>\n      <td>-0.026</td>\n      <td>0.904</td>\n      <td>...</td>\n      <td>-1.965672</td>\n      <td>-0.239414</td>\n      <td>1.262</td>\n      <td>0.110</td>\n      <td>1.190952</td>\n      <td>0.395136</td>\n      <td>1.372</td>\n      <td>0.0</td>\n      <td>0.999985</td>\n      <td>0.470596</td>\n    </tr>\n    <tr>\n      <th>2884</th>\n      <td>0.507</td>\n      <td>0.557</td>\n      <td>0.296</td>\n      <td>0.183</td>\n      <td>0.530</td>\n      <td>-0.237</td>\n      <td>0.749</td>\n      <td>0.584</td>\n      <td>0.537</td>\n      <td>0.904</td>\n      <td>...</td>\n      <td>1.088856</td>\n      <td>0.132620</td>\n      <td>-0.995</td>\n      <td>0.235</td>\n      <td>0.617896</td>\n      <td>0.233700</td>\n      <td>-0.760</td>\n      <td>0.0</td>\n      <td>1.000026</td>\n      <td>0.144400</td>\n    </tr>\n    <tr>\n      <th>2885</th>\n      <td>-0.394</td>\n      <td>-0.721</td>\n      <td>-0.485</td>\n      <td>0.084</td>\n      <td>0.136</td>\n      <td>0.034</td>\n      <td>0.655</td>\n      <td>0.614</td>\n      <td>-0.818</td>\n      <td>0.904</td>\n      <td>...</td>\n      <td>-2.143328</td>\n      <td>-0.261052</td>\n      <td>1.699</td>\n      <td>-0.203</td>\n      <td>0.786532</td>\n      <td>0.711348</td>\n      <td>1.496</td>\n      <td>0.0</td>\n      <td>0.999987</td>\n      <td>0.559504</td>\n    </tr>\n    <tr>\n      <th>2886</th>\n      <td>-0.219</td>\n      <td>-0.282</td>\n      <td>-0.344</td>\n      <td>-0.049</td>\n      <td>0.449</td>\n      <td>-0.140</td>\n      <td>0.560</td>\n      <td>0.583</td>\n      <td>-0.596</td>\n      <td>0.904</td>\n      <td>...</td>\n      <td>-2.413148</td>\n      <td>-0.127650</td>\n      <td>0.254</td>\n      <td>0.856</td>\n      <td>-1.843915</td>\n      <td>-0.167055</td>\n      <td>1.110</td>\n      <td>0.0</td>\n      <td>0.999982</td>\n      <td>0.308025</td>\n    </tr>\n    <tr>\n      <th>2887</th>\n      <td>0.368</td>\n      <td>0.380</td>\n      <td>-0.225</td>\n      <td>-0.049</td>\n      <td>0.379</td>\n      <td>0.092</td>\n      <td>0.550</td>\n      <td>0.551</td>\n      <td>0.244</td>\n      <td>0.904</td>\n      <td>...</td>\n      <td>-2.042213</td>\n      <td>-0.073720</td>\n      <td>-0.179</td>\n      <td>0.955</td>\n      <td>-0.684315</td>\n      <td>-0.219996</td>\n      <td>0.776</td>\n      <td>0.0</td>\n      <td>0.999974</td>\n      <td>0.150544</td>\n    </tr>\n  </tbody>\n</table>\n<p>2888 rows × 5815 columns</p>\n</div>"
     },
     "execution_count": 5,
     "metadata": {},
     "output_type": "execute_result"
    }
   ],
   "source": [
    "train_data2, test_data2 = auto_features_make(train_data,test_data,func_dict,col_list=test_data.columns)\n",
    "train_data2"
   ],
   "metadata": {
    "collapsed": false,
    "pycharm": {
     "name": "#%%\n"
    }
   }
  },
  {
   "cell_type": "code",
   "execution_count": 6,
   "outputs": [],
   "source": [
    "from sklearn.decomposition import PCA   #主成分分析法\n",
    "\n",
    "#PCA方法降维\n",
    "pca = PCA(n_components=500)\n",
    "train_data2_pca = pca.fit_transform(train_data2.iloc[:,0:-1])\n",
    "test_data2_pca = pca.transform(test_data2)\n",
    "train_data2_pca = pd.DataFrame(train_data2_pca)\n",
    "test_data2_pca = pd.DataFrame(test_data2_pca)\n",
    "train_data2_pca['target'] = train_data2['target']"
   ],
   "metadata": {
    "collapsed": false,
    "pycharm": {
     "name": "#%%\n"
    }
   }
  },
  {
   "cell_type": "code",
   "execution_count": 7,
   "outputs": [],
   "source": [
    "X_train2 = train_data2[test_data2_pca.columns].values\n",
    "y_train = train_data2_pca['target']"
   ],
   "metadata": {
    "collapsed": false,
    "pycharm": {
     "name": "#%%\n"
    }
   }
  },
  {
   "cell_type": "code",
   "execution_count": 9,
   "outputs": [
    {
     "name": "stderr",
     "output_type": "stream",
     "text": [
      "d:\\pycharmprojects\\myproject\\venv\\lib\\site-packages\\lightgbm\\sklearn.py:726: UserWarning: 'early_stopping_rounds' argument is deprecated and will be removed in a future release of LightGBM. Pass 'early_stopping()' callback via 'callbacks' argument instead.\n",
      "  _log_warning(\"'early_stopping_rounds' argument is deprecated and will be removed in a future release of LightGBM. \"\n",
      "d:\\pycharmprojects\\myproject\\venv\\lib\\site-packages\\lightgbm\\sklearn.py:736: UserWarning: 'verbose' argument is deprecated and will be removed in a future release of LightGBM. Pass 'log_evaluation()' callback via 'callbacks' argument instead.\n",
      "  _log_warning(\"'verbose' argument is deprecated and will be removed in a future release of LightGBM. \"\n"
     ]
    },
    {
     "name": "stdout",
     "output_type": "stream",
     "text": [
      "[50]\tTrain's l2: 0.413128\tTest's l2: 0.455026\n",
      "[100]\tTrain's l2: 0.198017\tTest's l2: 0.245523\n",
      "[150]\tTrain's l2: 0.108839\tTest's l2: 0.164432\n",
      "[200]\tTrain's l2: 0.0683439\tTest's l2: 0.132008\n",
      "[250]\tTrain's l2: 0.0478354\tTest's l2: 0.117217\n",
      "[300]\tTrain's l2: 0.035836\tTest's l2: 0.110572\n",
      "[350]\tTrain's l2: 0.0279916\tTest's l2: 0.10673\n",
      "[400]\tTrain's l2: 0.0225218\tTest's l2: 0.104686\n",
      "[450]\tTrain's l2: 0.0183733\tTest's l2: 0.103133\n",
      "[500]\tTrain's l2: 0.0151476\tTest's l2: 0.102168\n",
      "[550]\tTrain's l2: 0.012598\tTest's l2: 0.101216\n",
      "[600]\tTrain's l2: 0.0105448\tTest's l2: 0.100722\n",
      "[650]\tTrain's l2: 0.00886925\tTest's l2: 0.100606\n",
      "[700]\tTrain's l2: 0.00751108\tTest's l2: 0.100288\n"
     ]
    },
    {
     "ename": "KeyboardInterrupt",
     "evalue": "",
     "output_type": "error",
     "traceback": [
      "\u001B[1;31m---------------------------------------------------------------------------\u001B[0m",
      "\u001B[1;31mKeyboardInterrupt\u001B[0m                         Traceback (most recent call last)",
      "\u001B[1;32m~\\AppData\\Local\\Temp/ipykernel_1308/3729728018.py\u001B[0m in \u001B[0;36m<module>\u001B[1;34m\u001B[0m\n\u001B[0;32m     32\u001B[0m \u001B[1;33m\u001B[0m\u001B[0m\n\u001B[0;32m     33\u001B[0m     \u001B[1;31m# 训练模型\u001B[0m\u001B[1;33m\u001B[0m\u001B[1;33m\u001B[0m\u001B[1;33m\u001B[0m\u001B[0m\n\u001B[1;32m---> 34\u001B[1;33m     lgb_reg.fit(\n\u001B[0m\u001B[0;32m     35\u001B[0m             \u001B[0mX\u001B[0m\u001B[1;33m=\u001B[0m\u001B[0mX_train_KFold\u001B[0m\u001B[1;33m,\u001B[0m\u001B[0my\u001B[0m\u001B[1;33m=\u001B[0m\u001B[0my_train_KFold\u001B[0m\u001B[1;33m,\u001B[0m\u001B[1;33m\u001B[0m\u001B[1;33m\u001B[0m\u001B[0m\n\u001B[0;32m     36\u001B[0m             \u001B[0meval_set\u001B[0m\u001B[1;33m=\u001B[0m\u001B[1;33m[\u001B[0m\u001B[1;33m(\u001B[0m\u001B[0mX_train_KFold\u001B[0m\u001B[1;33m,\u001B[0m \u001B[0my_train_KFold\u001B[0m\u001B[1;33m)\u001B[0m\u001B[1;33m,\u001B[0m\u001B[1;33m(\u001B[0m\u001B[0mX_test_KFold\u001B[0m\u001B[1;33m,\u001B[0m \u001B[0my_test_KFold\u001B[0m\u001B[1;33m)\u001B[0m\u001B[1;33m]\u001B[0m\u001B[1;33m,\u001B[0m\u001B[1;33m\u001B[0m\u001B[1;33m\u001B[0m\u001B[0m\n",
      "\u001B[1;32md:\\pycharmprojects\\myproject\\venv\\lib\\site-packages\\lightgbm\\sklearn.py\u001B[0m in \u001B[0;36mfit\u001B[1;34m(self, X, y, sample_weight, init_score, eval_set, eval_names, eval_sample_weight, eval_init_score, eval_metric, early_stopping_rounds, verbose, feature_name, categorical_feature, callbacks, init_model)\u001B[0m\n\u001B[0;32m    893\u001B[0m             callbacks=None, init_model=None):\n\u001B[0;32m    894\u001B[0m         \u001B[1;34m\"\"\"Docstring is inherited from the LGBMModel.\"\"\"\u001B[0m\u001B[1;33m\u001B[0m\u001B[1;33m\u001B[0m\u001B[0m\n\u001B[1;32m--> 895\u001B[1;33m         super().fit(X, y, sample_weight=sample_weight, init_score=init_score,\n\u001B[0m\u001B[0;32m    896\u001B[0m                     \u001B[0meval_set\u001B[0m\u001B[1;33m=\u001B[0m\u001B[0meval_set\u001B[0m\u001B[1;33m,\u001B[0m \u001B[0meval_names\u001B[0m\u001B[1;33m=\u001B[0m\u001B[0meval_names\u001B[0m\u001B[1;33m,\u001B[0m \u001B[0meval_sample_weight\u001B[0m\u001B[1;33m=\u001B[0m\u001B[0meval_sample_weight\u001B[0m\u001B[1;33m,\u001B[0m\u001B[1;33m\u001B[0m\u001B[1;33m\u001B[0m\u001B[0m\n\u001B[0;32m    897\u001B[0m                     \u001B[0meval_init_score\u001B[0m\u001B[1;33m=\u001B[0m\u001B[0meval_init_score\u001B[0m\u001B[1;33m,\u001B[0m \u001B[0meval_metric\u001B[0m\u001B[1;33m=\u001B[0m\u001B[0meval_metric\u001B[0m\u001B[1;33m,\u001B[0m\u001B[1;33m\u001B[0m\u001B[1;33m\u001B[0m\u001B[0m\n",
      "\u001B[1;32md:\\pycharmprojects\\myproject\\venv\\lib\\site-packages\\lightgbm\\sklearn.py\u001B[0m in \u001B[0;36mfit\u001B[1;34m(self, X, y, sample_weight, init_score, group, eval_set, eval_names, eval_sample_weight, eval_class_weight, eval_init_score, eval_group, eval_metric, early_stopping_rounds, verbose, feature_name, categorical_feature, callbacks, init_model)\u001B[0m\n\u001B[0;32m    746\u001B[0m         \u001B[0mcallbacks\u001B[0m\u001B[1;33m.\u001B[0m\u001B[0mappend\u001B[0m\u001B[1;33m(\u001B[0m\u001B[0mrecord_evaluation\u001B[0m\u001B[1;33m(\u001B[0m\u001B[0mevals_result\u001B[0m\u001B[1;33m)\u001B[0m\u001B[1;33m)\u001B[0m\u001B[1;33m\u001B[0m\u001B[1;33m\u001B[0m\u001B[0m\n\u001B[0;32m    747\u001B[0m \u001B[1;33m\u001B[0m\u001B[0m\n\u001B[1;32m--> 748\u001B[1;33m         self._Booster = train(\n\u001B[0m\u001B[0;32m    749\u001B[0m             \u001B[0mparams\u001B[0m\u001B[1;33m=\u001B[0m\u001B[0mparams\u001B[0m\u001B[1;33m,\u001B[0m\u001B[1;33m\u001B[0m\u001B[1;33m\u001B[0m\u001B[0m\n\u001B[0;32m    750\u001B[0m             \u001B[0mtrain_set\u001B[0m\u001B[1;33m=\u001B[0m\u001B[0mtrain_set\u001B[0m\u001B[1;33m,\u001B[0m\u001B[1;33m\u001B[0m\u001B[1;33m\u001B[0m\u001B[0m\n",
      "\u001B[1;32md:\\pycharmprojects\\myproject\\venv\\lib\\site-packages\\lightgbm\\engine.py\u001B[0m in \u001B[0;36mtrain\u001B[1;34m(params, train_set, num_boost_round, valid_sets, valid_names, fobj, feval, init_model, feature_name, categorical_feature, early_stopping_rounds, evals_result, verbose_eval, learning_rates, keep_training_booster, callbacks)\u001B[0m\n\u001B[0;32m    290\u001B[0m                                     evaluation_result_list=None))\n\u001B[0;32m    291\u001B[0m \u001B[1;33m\u001B[0m\u001B[0m\n\u001B[1;32m--> 292\u001B[1;33m         \u001B[0mbooster\u001B[0m\u001B[1;33m.\u001B[0m\u001B[0mupdate\u001B[0m\u001B[1;33m(\u001B[0m\u001B[0mfobj\u001B[0m\u001B[1;33m=\u001B[0m\u001B[0mfobj\u001B[0m\u001B[1;33m)\u001B[0m\u001B[1;33m\u001B[0m\u001B[1;33m\u001B[0m\u001B[0m\n\u001B[0m\u001B[0;32m    293\u001B[0m \u001B[1;33m\u001B[0m\u001B[0m\n\u001B[0;32m    294\u001B[0m         \u001B[0mevaluation_result_list\u001B[0m \u001B[1;33m=\u001B[0m \u001B[1;33m[\u001B[0m\u001B[1;33m]\u001B[0m\u001B[1;33m\u001B[0m\u001B[1;33m\u001B[0m\u001B[0m\n",
      "\u001B[1;32md:\\pycharmprojects\\myproject\\venv\\lib\\site-packages\\lightgbm\\basic.py\u001B[0m in \u001B[0;36mupdate\u001B[1;34m(self, train_set, fobj)\u001B[0m\n\u001B[0;32m   3019\u001B[0m             \u001B[1;32mif\u001B[0m \u001B[0mself\u001B[0m\u001B[1;33m.\u001B[0m\u001B[0m__set_objective_to_none\u001B[0m\u001B[1;33m:\u001B[0m\u001B[1;33m\u001B[0m\u001B[1;33m\u001B[0m\u001B[0m\n\u001B[0;32m   3020\u001B[0m                 \u001B[1;32mraise\u001B[0m \u001B[0mLightGBMError\u001B[0m\u001B[1;33m(\u001B[0m\u001B[1;34m'Cannot update due to null objective function.'\u001B[0m\u001B[1;33m)\u001B[0m\u001B[1;33m\u001B[0m\u001B[1;33m\u001B[0m\u001B[0m\n\u001B[1;32m-> 3021\u001B[1;33m             _safe_call(_LIB.LGBM_BoosterUpdateOneIter(\n\u001B[0m\u001B[0;32m   3022\u001B[0m                 \u001B[0mself\u001B[0m\u001B[1;33m.\u001B[0m\u001B[0mhandle\u001B[0m\u001B[1;33m,\u001B[0m\u001B[1;33m\u001B[0m\u001B[1;33m\u001B[0m\u001B[0m\n\u001B[0;32m   3023\u001B[0m                 ctypes.byref(is_finished)))\n",
      "\u001B[1;31mKeyboardInterrupt\u001B[0m: "
     ]
    }
   ],
   "source": [
    "# ls_validation i\n",
    "from sklearn.model_selection import KFold\n",
    "from sklearn.metrics import mean_squared_error\n",
    "import lightgbm as lgb\n",
    "import numpy as np\n",
    "\n",
    "# 5折交叉验证\n",
    "Folds=5\n",
    "kf = KFold(n_splits=Folds, random_state=2019, shuffle=True)\n",
    "kf.get_n_splits(len(X_train2))\n",
    "# 记录训练和预测MSE\n",
    "MSE_DICT = {\n",
    "    'train_mse':[],\n",
    "    'test_mse':[]\n",
    "}\n",
    "\n",
    "# 线下训练预测\n",
    "for i, (train_index, test_index) in enumerate(kf.split(X_train2)):\n",
    "    # lgb树模型\n",
    "    lgb_reg = lgb.LGBMRegressor(\n",
    "        learning_rate=0.01,\n",
    "        max_depth=-1,\n",
    "        n_estimators=5000,\n",
    "        boosting_type='gbdt',\n",
    "        random_state=2019,\n",
    "        objective='regression',\n",
    "    )\n",
    "\n",
    "    # 切分训练集和预测集\n",
    "    X_train_KFold, X_test_KFold = X_train2[train_index], X_train2[test_index]\n",
    "    y_train_KFold, y_test_KFold = y_train[train_index], y_train[test_index]\n",
    "\n",
    "    # 训练模型\n",
    "    lgb_reg.fit(\n",
    "            X=X_train_KFold,y=y_train_KFold,\n",
    "            eval_set=[(X_train_KFold, y_train_KFold),(X_test_KFold, y_test_KFold)],\n",
    "            eval_names=['Train','Test'],\n",
    "            early_stopping_rounds=100,\n",
    "            eval_metric='MSE',\n",
    "            verbose=50\n",
    "        )\n",
    "\n",
    "\n",
    "    # 训练集预测 测试集预测\n",
    "    y_train_KFold_predict = lgb_reg.predict(X_train_KFold,num_iteration=lgb_reg.best_iteration_)\n",
    "    y_test_KFold_predict = lgb_reg.predict(X_test_KFold,num_iteration=lgb_reg.best_iteration_)\n",
    "\n",
    "    print('第{}折 训练和预测 训练MSE 预测MSE'.format(i))\n",
    "    train_mse = mean_squared_error(y_train_KFold_predict, y_train_KFold)\n",
    "    print('------\\n', '训练MSE\\n', train_mse, '\\n------')\n",
    "    test_mse = mean_squared_error(y_test_KFold_predict, y_test_KFold)\n",
    "    print('------\\n', '预测MSE\\n', test_mse, '\\n------\\n')\n",
    "\n",
    "    MSE_DICT['train_mse'].append(train_mse)\n",
    "    MSE_DICT['test_mse'].append(test_mse)\n",
    "print('------\\n', '训练MSE\\n', MSE_DICT['train_mse'], '\\n', np.mean(MSE_DICT['train_mse']), '\\n------')\n",
    "print('------\\n', '预测MSE\\n', MSE_DICT['test_mse'], '\\n', np.mean(MSE_DICT['test_mse']), '\\n------')"
   ],
   "metadata": {
    "collapsed": false,
    "pycharm": {
     "name": "#%%\n"
    }
   }
  },
  {
   "cell_type": "code",
   "execution_count": null,
   "outputs": [],
   "source": [],
   "metadata": {
    "collapsed": false,
    "pycharm": {
     "name": "#%%\n"
    }
   }
  }
 ],
 "metadata": {
  "kernelspec": {
   "display_name": "Python 3",
   "language": "python",
   "name": "python3"
  },
  "language_info": {
   "codemirror_mode": {
    "name": "ipython",
    "version": 2
   },
   "file_extension": ".py",
   "mimetype": "text/x-python",
   "name": "python",
   "nbconvert_exporter": "python",
   "pygments_lexer": "ipython2",
   "version": "2.7.6"
  }
 },
 "nbformat": 4,
 "nbformat_minor": 0
}